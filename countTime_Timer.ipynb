{
 "cells": [
  {
   "cell_type": "markdown",
   "id": "6e019a5e-aafd-4850-997e-a0afc2c4387d",
   "metadata": {},
   "source": [
    "Count-Down Timer"
   ]
  },
  {
   "cell_type": "code",
   "execution_count": 3,
   "id": "dc275b18-c05c-4a6f-8257-73765f95c813",
   "metadata": {},
   "outputs": [
    {
     "name": "stdin",
     "output_type": "stream",
     "text": [
      "Enter a timer in seconds : 20\n"
     ]
    },
    {
     "name": "stdout",
     "output_type": "stream",
     "text": [
      "CountDown off!!\n"
     ]
    }
   ],
   "source": [
    "import time\n",
    "\n",
    "def countdown(user_time):\n",
    "    while user_time > 0:\n",
    "        mins, secs = divmod(user_time,60)\n",
    "        timer = '{:02d}:{:02d}'.format(mins,secs)\n",
    "        print(timer , end = '\\r')\n",
    "        time.sleep(1)\n",
    "        user_time -=1\n",
    "    print(\"CountDown off!!\")    \n",
    "\n",
    "if __name__ == '__main__':\n",
    "    user_time = int(input(\"Enter a timer in seconds :\"))\n",
    "    countdown(user_time)"
   ]
  }
 ],
 "metadata": {
  "kernelspec": {
   "display_name": "Python 3 (ipykernel)",
   "language": "python",
   "name": "python3"
  },
  "language_info": {
   "codemirror_mode": {
    "name": "ipython",
    "version": 3
   },
   "file_extension": ".py",
   "mimetype": "text/x-python",
   "name": "python",
   "nbconvert_exporter": "python",
   "pygments_lexer": "ipython3",
   "version": "3.13.1"
  }
 },
 "nbformat": 4,
 "nbformat_minor": 5
}
