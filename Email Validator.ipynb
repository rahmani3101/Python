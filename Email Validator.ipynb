{
 "cells": [
  {
   "cell_type": "code",
   "execution_count": 1,
   "id": "c1c44476-80a1-4541-86b9-8e7ed2e27d49",
   "metadata": {},
   "outputs": [
    {
     "name": "stdin",
     "output_type": "stream",
     "text": [
      "Enter your Email :  asadrahmani3101.com\n"
     ]
    },
    {
     "name": "stdout",
     "output_type": "stream",
     "text": [
      "Wrong Email....\n"
     ]
    }
   ],
   "source": [
    "# t@g.co ----> 6\n",
    "# 2@g.co ----> Restricted\n",
    "\n",
    "email = input(\"Enter your Email : \")\n",
    "k,j,d=0,0,0\n",
    "if len(email)>=6:\n",
    "    if email[0].isalpha():\n",
    "        if(\"@\" in email) and (email.count(\"@\")==1):\n",
    "            if(email[-4]==\".\") ^ (email[-3]==\".\"):\n",
    "                for i in email:\n",
    "                    if i==i.isspace():\n",
    "                        k=1\n",
    "                    elif i.isalpha():\n",
    "                        if i==i.upper():\n",
    "                            j=1\n",
    "                    elif i.isdigit():\n",
    "                        continue\n",
    "                    elif i==\"_\" or i ==\".\" or i ==\"@\":\n",
    "                        continue\n",
    "                    else:\n",
    "                        d=1\n",
    "                if k==1 or j==1 or d==1:\n",
    "                    print(\"Wrong Email.....\")\n",
    "                else:\n",
    "                    print(\"Valid Email....\")\n",
    "            else:\n",
    "                print(\"Wrong Email ....\")\n",
    "        else:\n",
    "            print(\"Wrong Email....\")\n",
    "    else:\n",
    "        print(\"Wrong Email.....\")\n",
    "else:\n",
    "    print(\"Wrong Email...\")"
   ]
  },
  {
   "cell_type": "markdown",
   "id": "c48cde47-7936-447d-af78-2ef4068c6ea8",
   "metadata": {},
   "source": [
    "## Regular Expression"
   ]
  },
  {
   "cell_type": "code",
   "execution_count": 3,
   "id": "8d3c9e9a-fdf6-4669-84c0-88346dd4c199",
   "metadata": {},
   "outputs": [
    {
     "name": "stdin",
     "output_type": "stream",
     "text": [
      "Enter your email:  asadrahmani3101@gmail.com\n"
     ]
    },
    {
     "name": "stdout",
     "output_type": "stream",
     "text": [
      "Valid Email....\n"
     ]
    }
   ],
   "source": [
    "# Rules\n",
    "# a-z\n",
    "# 0-9\n",
    "# . _ 1 time\n",
    "# @   1 time\n",
    "# After  . 2,3 alpha req\n",
    "\n",
    "import re\n",
    "\n",
    "email = r'^[a-z]+[\\._]?[a-z0-9]+[@]\\w+[.]\\w{2,3}$'  \n",
    "user_email = input(\"Enter your email: \")\n",
    "\n",
    "if re.search(email, user_email):\n",
    "    print(\"Valid Email....\")\n",
    "else:\n",
    "    print(\"Invalid Email....\")\n"
   ]
  }
 ],
 "metadata": {
  "kernelspec": {
   "display_name": "Python 3 (ipykernel)",
   "language": "python",
   "name": "python3"
  },
  "language_info": {
   "codemirror_mode": {
    "name": "ipython",
    "version": 3
   },
   "file_extension": ".py",
   "mimetype": "text/x-python",
   "name": "python",
   "nbconvert_exporter": "python",
   "pygments_lexer": "ipython3",
   "version": "3.13.2"
  }
 },
 "nbformat": 4,
 "nbformat_minor": 5
}
