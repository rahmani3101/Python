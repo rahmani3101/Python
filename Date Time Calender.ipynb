{
 "cells": [
  {
   "cell_type": "markdown",
   "id": "9f3add2d-a374-4e85-ad27-8c512a7477e3",
   "metadata": {},
   "source": [
    "### Calender"
   ]
  },
  {
   "cell_type": "code",
   "execution_count": 5,
   "id": "ffb4d2c5-d4f4-4a9a-b7e6-6b404fdc1374",
   "metadata": {},
   "outputs": [
    {
     "name": "stdout",
     "output_type": "stream",
     "text": [
      "     April 2025\n",
      "Mo Tu We Th Fr Sa Su\n",
      "    1  2  3  4  5  6\n",
      " 7  8  9 10 11 12 13\n",
      "14 15 16 17 18 19 20\n",
      "21 22 23 24 25 26 27\n",
      "28 29 30\n",
      "\n"
     ]
    }
   ],
   "source": [
    "import calendar\n",
    "month = calendar.month(2025,4)\n",
    "print(month)"
   ]
  },
  {
   "cell_type": "markdown",
   "id": "8681758b-7298-435a-ba37-9b4ee80a918b",
   "metadata": {},
   "source": [
    "### Python Data Time\n",
    "\n",
    "A date in Python is not a date type of its own but we can import a module name datetime to work with dates as date object"
   ]
  },
  {
   "cell_type": "code",
   "execution_count": 6,
   "id": "b80943d5-e30b-40c0-8c6a-1f3636a4b6c1",
   "metadata": {},
   "outputs": [],
   "source": [
    "import datetime"
   ]
  },
  {
   "cell_type": "code",
   "execution_count": 7,
   "id": "778ba00d-87c9-4e35-85a0-178f8ee23c6d",
   "metadata": {},
   "outputs": [
    {
     "name": "stdout",
     "output_type": "stream",
     "text": [
      "2025-03-22 12:18:05.746492\n"
     ]
    }
   ],
   "source": [
    "date = datetime.datetime.now()\n",
    "print(date)"
   ]
  },
  {
   "cell_type": "code",
   "execution_count": 10,
   "id": "3dec75c0-0033-4bd8-8801-48c20690e0fe",
   "metadata": {},
   "outputs": [
    {
     "name": "stdout",
     "output_type": "stream",
     "text": [
      "2025\n"
     ]
    }
   ],
   "source": [
    "print(date.year)"
   ]
  },
  {
   "cell_type": "code",
   "execution_count": 11,
   "id": "bb68fb7a-07ca-459a-af1c-4d5a225144b4",
   "metadata": {},
   "outputs": [
    {
     "name": "stdout",
     "output_type": "stream",
     "text": [
      "3\n"
     ]
    }
   ],
   "source": [
    "print(date.month)"
   ]
  },
  {
   "cell_type": "code",
   "execution_count": 12,
   "id": "d48f86dc-2364-4349-924f-812c27070497",
   "metadata": {},
   "outputs": [
    {
     "name": "stdout",
     "output_type": "stream",
     "text": [
      "22\n"
     ]
    }
   ],
   "source": [
    "print(date.day)"
   ]
  },
  {
   "cell_type": "code",
   "execution_count": 13,
   "id": "de69b3a0-a901-4592-8c94-2f509db36975",
   "metadata": {},
   "outputs": [
    {
     "name": "stdout",
     "output_type": "stream",
     "text": [
      "12\n"
     ]
    }
   ],
   "source": [
    "print(date.hour)"
   ]
  },
  {
   "cell_type": "code",
   "execution_count": 14,
   "id": "556c7343-9624-47d7-b300-4fd62efe2dd5",
   "metadata": {},
   "outputs": [
    {
     "name": "stdout",
     "output_type": "stream",
     "text": [
      "18\n"
     ]
    }
   ],
   "source": [
    "print(date.minute)"
   ]
  },
  {
   "cell_type": "code",
   "execution_count": 15,
   "id": "d06041df-d6e6-4fa7-b35e-8fbfd33363e4",
   "metadata": {},
   "outputs": [
    {
     "name": "stdout",
     "output_type": "stream",
     "text": [
      "5\n"
     ]
    }
   ],
   "source": [
    "print(date.second)"
   ]
  }
 ],
 "metadata": {
  "kernelspec": {
   "display_name": "Python 3 (ipykernel)",
   "language": "python",
   "name": "python3"
  },
  "language_info": {
   "codemirror_mode": {
    "name": "ipython",
    "version": 3
   },
   "file_extension": ".py",
   "mimetype": "text/x-python",
   "name": "python",
   "nbconvert_exporter": "python",
   "pygments_lexer": "ipython3",
   "version": "3.13.2"
  }
 },
 "nbformat": 4,
 "nbformat_minor": 5
}
