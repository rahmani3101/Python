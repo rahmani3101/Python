{
 "cells": [
  {
   "cell_type": "code",
   "execution_count": 7,
   "id": "254c930c-e0da-4034-b432-f0e7152ab2ff",
   "metadata": {},
   "outputs": [
    {
     "name": "stdout",
     "output_type": "stream",
     "text": [
      "{'java', 'c++', 'python'} <class 'set'> 140267795258880 3\n",
      "{'java', 'c++', 'python', 'Kotlin'} <class 'set'> 140267795258880 4\n"
     ]
    }
   ],
   "source": [
    "languages = {'c++','python','java'}\n",
    "print(languages , type(languages),id(languages),len(languages))             \n",
    "languages.add('Kotlin')\n",
    "print(languages , type(languages),id(languages),len(languages))             "
   ]
  },
  {
   "cell_type": "code",
   "execution_count": 8,
   "id": "adacf65d-a6e8-4135-ab3a-8b5e0a7688f2",
   "metadata": {},
   "outputs": [
    {
     "name": "stdout",
     "output_type": "stream",
     "text": [
      "{'java', 'c++', 'python', 'pearl', 'Kotlin'} <class 'set'> 140267795258880 5\n"
     ]
    }
   ],
   "source": [
    "languages.add('pearl')\n",
    "print(languages , type(languages),id(languages),len(languages))             "
   ]
  },
  {
   "cell_type": "code",
   "execution_count": 9,
   "id": "7df71fe3-4cc6-4a3d-a1cd-8b8f2a0d847a",
   "metadata": {},
   "outputs": [
    {
     "name": "stdout",
     "output_type": "stream",
     "text": [
      "{'java', 'c++', 'python', 'pearl', 'Kotlin'} <class 'set'> 140267795258880 5\n"
     ]
    }
   ],
   "source": [
    "languages.add('python')\n",
    "print(languages , type(languages),id(languages),len(languages))             "
   ]
  },
  {
   "cell_type": "code",
   "execution_count": 10,
   "id": "717356bf-85e8-476c-b9e3-0d646de6dbbc",
   "metadata": {},
   "outputs": [
    {
     "name": "stdout",
     "output_type": "stream",
     "text": [
      "{'java', 'c++', 'C', 'python', 'pearl', 'Kotlin'} <class 'set'> 140267795258880 6\n"
     ]
    }
   ],
   "source": [
    "languages.add('C')\n",
    "print(languages , type(languages),id(languages),len(languages))             "
   ]
  },
  {
   "cell_type": "code",
   "execution_count": 11,
   "id": "5796522c-4e4e-4ce5-a6e1-58a4e2b54569",
   "metadata": {},
   "outputs": [
    {
     "name": "stdout",
     "output_type": "stream",
     "text": [
      "{'java', 'c++', 'C', 'python', 'pearl', 'Kotlin'} <class 'set'> 140267795258880 6\n"
     ]
    }
   ],
   "source": [
    "languages.add('Kotlin')\n",
    "print(languages , type(languages),id(languages),len(languages))        "
   ]
  },
  {
   "cell_type": "code",
   "execution_count": 13,
   "id": "b121ef49-9450-4e5a-a241-b26c4c08bd50",
   "metadata": {},
   "outputs": [
    {
     "name": "stdout",
     "output_type": "stream",
     "text": [
      "{'java', 'c++', 'python'} <class 'set'> 140267536335584 3\n",
      "{'Julia', 'GoLang ', 'C', 'Pearl'} <class 'set'> 140267536336928 4\n",
      "{'GoLang ', 'python', 'Pearl', 'Julia', 'java', 'c++', 'C'} <class 'set'> 140267536335584 7\n",
      "{'Julia', 'GoLang ', 'C', 'Pearl'} <class 'set'> 140267536336928 4\n"
     ]
    }
   ],
   "source": [
    "languages1 = {'c++','python','java'}\n",
    "print(languages1 , type(languages1),id(languages1),len(languages1)) \n",
    "\n",
    "languages2 = {'C','Pearl','GoLang ' ,'Julia'}\n",
    "print(languages2 , type(languages2),id(languages2),len(languages2)) \n",
    "\n",
    "languages1.update(languages2)\n",
    "print(languages1 , type(languages1),id(languages1),len(languages1)) \n",
    "print(languages2 , type(languages2),id(languages2),len(languages2)) "
   ]
  },
  {
   "cell_type": "code",
   "execution_count": 15,
   "id": "f7f93c68-8148-483f-8e8d-0c7bf2f732f3",
   "metadata": {},
   "outputs": [
    {
     "name": "stdout",
     "output_type": "stream",
     "text": [
      "{'c++', 'C', 'python', 'pearl', 'Kotlin'} <class 'set'> 140267795258880 5\n",
      "c++\n",
      "{'C', 'python', 'pearl', 'Kotlin'} <class 'set'> 140267795258880 4\n",
      "C\n",
      "{'python', 'pearl', 'Kotlin'} <class 'set'> 140267795258880 3\n"
     ]
    }
   ],
   "source": [
    "language = {'Julia','C','Go lang','c++','java','python','pearl'}\n",
    "print(languages , type(languages),id(languages),len(languages))        \n",
    "print(languages.pop())\n",
    "print(languages , type(languages),id(languages),len(languages))     \n",
    "\n",
    "print(languages.pop())\n",
    "print(languages , type(languages),id(languages),len(languages))    \n",
    "\n",
    "print(languages.pop())\n",
    "print(languages , type(languages),id(languages),len(languages))    "
   ]
  },
  {
   "cell_type": "code",
   "execution_count": 19,
   "id": "3f8f8c5c-a548-4ab3-9e53-e567e2a45e63",
   "metadata": {},
   "outputs": [
    {
     "name": "stdout",
     "output_type": "stream",
     "text": [
      "{'Go lang', 'pearl', 'python', 'Julia', 'java', 'c++', 'C'} <class 'set'> 140267536336704 7\n",
      "{'Go lang', 'pearl', 'python', 'Julia', 'c++', 'C'} <class 'set'> 140267536336704 6\n",
      "{'Go lang', 'pearl', 'python', 'Julia', 'c++'} <class 'set'> 140267536336704 5\n"
     ]
    }
   ],
   "source": [
    "language = {'Julia','C','Go lang','c++','java','python','pearl'}\n",
    "print(language , type(language),id(language),len(language)) \n",
    "\n",
    "language.remove('java')\n",
    "print(language , type(language),id(language),len(language)) \n",
    "\n",
    "language.remove('C')\n",
    "print(language , type(language),id(language),len(language)) "
   ]
  },
  {
   "cell_type": "code",
   "execution_count": 21,
   "id": "4e8d0f11-ffb9-453d-b943-886bcee91727",
   "metadata": {},
   "outputs": [
    {
     "name": "stdout",
     "output_type": "stream",
     "text": [
      "{'Go lang', 'pearl', 'python', 'Julia', 'java', 'c++', 'C'} <class 'set'> 140267536338048 7\n",
      "{'Go lang', 'pearl', 'python', 'Julia', 'java', 'c++'} <class 'set'> 140267536338048 6\n",
      "{'Go lang', 'pearl', 'python', 'Julia', 'java', 'c++'} <class 'set'> 140267536338048 6\n",
      "{'Go lang', 'python', 'Julia', 'java', 'c++'} <class 'set'> 140267536338048 5\n"
     ]
    }
   ],
   "source": [
    "language = {'Julia','C','Go lang','c++','java','python','pearl'}\n",
    "print(language , type(language),id(language),len(language)) \n",
    "\n",
    "language.discard('C')\n",
    "print(language , type(language),id(language),len(language)) \n",
    "\n",
    "language.discard('C')\n",
    "print(language , type(language),id(language),len(language)) \n",
    "\n",
    "language.discard('pearl')\n",
    "print(language , type(language),id(language),len(language)) "
   ]
  },
  {
   "cell_type": "code",
   "execution_count": 22,
   "id": "1211af8a-62cf-4239-9d93-a5f444c11233",
   "metadata": {},
   "outputs": [
    {
     "name": "stdout",
     "output_type": "stream",
     "text": [
      "{'Go lang', 'pearl', 'python', 'Julia', 'java', 'c++', 'C'} <class 'set'> 140267536336256 7\n",
      "set() <class 'set'> 140267536336256 0\n"
     ]
    }
   ],
   "source": [
    "language = {'Julia','C','Go lang','c++','java','python','pearl'}\n",
    "print(language , type(language),id(language),len(language))\n",
    "\n",
    "language.clear()\n",
    "print(language , type(language),id(language),len(language))"
   ]
  },
  {
   "cell_type": "code",
   "execution_count": 23,
   "id": "9a873f60-627b-492a-a53f-a3f0e1096d8a",
   "metadata": {},
   "outputs": [
    {
     "name": "stdout",
     "output_type": "stream",
     "text": [
      "{'Go lang', 'pearl', 'python', 'Julia', 'java', 'c++', 'C'} <class 'set'> 140267536336480 7\n"
     ]
    },
    {
     "ename": "NameError",
     "evalue": "name 'langauge' is not defined",
     "output_type": "error",
     "traceback": [
      "\u001b[0;31m---------------------------------------------------------------------------\u001b[0m",
      "\u001b[0;31mNameError\u001b[0m                                 Traceback (most recent call last)",
      "Cell \u001b[0;32mIn[23], line 4\u001b[0m\n\u001b[1;32m      1\u001b[0m language \u001b[38;5;241m=\u001b[39m {\u001b[38;5;124m'\u001b[39m\u001b[38;5;124mJulia\u001b[39m\u001b[38;5;124m'\u001b[39m,\u001b[38;5;124m'\u001b[39m\u001b[38;5;124mC\u001b[39m\u001b[38;5;124m'\u001b[39m,\u001b[38;5;124m'\u001b[39m\u001b[38;5;124mGo lang\u001b[39m\u001b[38;5;124m'\u001b[39m,\u001b[38;5;124m'\u001b[39m\u001b[38;5;124mc++\u001b[39m\u001b[38;5;124m'\u001b[39m,\u001b[38;5;124m'\u001b[39m\u001b[38;5;124mjava\u001b[39m\u001b[38;5;124m'\u001b[39m,\u001b[38;5;124m'\u001b[39m\u001b[38;5;124mpython\u001b[39m\u001b[38;5;124m'\u001b[39m,\u001b[38;5;124m'\u001b[39m\u001b[38;5;124mpearl\u001b[39m\u001b[38;5;124m'\u001b[39m}\n\u001b[1;32m      2\u001b[0m \u001b[38;5;28mprint\u001b[39m(language , \u001b[38;5;28mtype\u001b[39m(language),\u001b[38;5;28mid\u001b[39m(language),\u001b[38;5;28mlen\u001b[39m(language))\n\u001b[0;32m----> 4\u001b[0m \u001b[38;5;28;01mdel\u001b[39;00m \u001b[43mlangauge\u001b[49m\n\u001b[1;32m      5\u001b[0m \u001b[38;5;28mprint\u001b[39m(language , \u001b[38;5;28mtype\u001b[39m(language),\u001b[38;5;28mid\u001b[39m(language),\u001b[38;5;28mlen\u001b[39m(language))\n",
      "\u001b[0;31mNameError\u001b[0m: name 'langauge' is not defined"
     ]
    }
   ],
   "source": [
    "language = {'Julia','C','Go lang','c++','java','python','pearl'}\n",
    "print(language , type(language),id(language),len(language))\n",
    "\n",
    "del langauge   \n",
    "print(language , type(language),id(language),len(language))     #error as language set is deleted"
   ]
  },
  {
   "cell_type": "markdown",
   "id": "c24cb5db-2940-4490-9cf3-deec367ccac6",
   "metadata": {},
   "source": [
    "## Dealing with Frozen-Set Processing\n",
    "\n",
    "Frozen set is a collection of unique unordered vales of a same or different datatypes enclosed within a second project(curly bracket).\n",
    "Frozen sets items are immutable as INSERT , DELETE and UPDATE operations can not be carried out on them"
   ]
  },
  {
   "cell_type": "code",
   "execution_count": 25,
   "id": "de3a320a-b97a-4c56-90b3-47538e7c79ac",
   "metadata": {},
   "outputs": [
    {
     "name": "stdout",
     "output_type": "stream",
     "text": [
      "frozenset({'C++', 'Kotlin', 'Java', 'Pearl'}) <class 'frozenset'> 140267536338272 4\n",
      "\n",
      "frozenset({'C++', 'Kotlin', 'Java', 'Pearl'}) <class 'frozenset'> 140267536337600 4\n",
      "\n"
     ]
    }
   ],
   "source": [
    "languages = frozenset(['C++','Kotlin','Java','Pearl'])\n",
    "print(languages , type(languages),id(languages),len(languages))             \n",
    "print()\n",
    "\n",
    "languages = frozenset(('C++','Java','Pearl' , 'Kotlin'))\n",
    "print(languages , type(languages),id(languages),len(languages))             \n",
    "print()"
   ]
  },
  {
   "cell_type": "code",
   "execution_count": 26,
   "id": "716ba7e3-0dcc-457d-8d46-38db78dc0f45",
   "metadata": {},
   "outputs": [
    {
     "name": "stdout",
     "output_type": "stream",
     "text": [
      "frozenset({'C++', 'java', 'python'}) <class 'frozenset'> 140267795258880 3\n",
      "frozenset({'cobra', 'python', 'viper'}) <class 'frozenset'> 140267536340064 3\n",
      "frozenset({'cobra', 'python', 'C++', 'java', 'viper'}) 5 <class 'frozenset'> 140267536339168\n",
      "frozenset({'cobra', 'python', 'C++', 'java', 'viper'}) 5 <class 'frozenset'> 140267536339392\n"
     ]
    }
   ],
   "source": [
    "languages =frozenset(['C++','python','java'])\n",
    "print(languages , type(languages),id(languages),len(languages))             \n",
    "snakes = frozenset(['cobra','viper','python'])\n",
    "print(snakes , type(snakes),id(snakes),len(snakes))        \n",
    "\n",
    "result = languages.union(snakes)\n",
    "print(result , len(result),type(result),id(result))\n",
    "\n",
    "result = languages | snakes\n",
    "print(result , len(result),type(result),id(result))"
   ]
  },
  {
   "cell_type": "code",
   "execution_count": 27,
   "id": "a43f849b-0f8a-49bf-b630-0c157ed20cb3",
   "metadata": {},
   "outputs": [
    {
     "name": "stdout",
     "output_type": "stream",
     "text": [
      "frozenset({'C++', 'java', 'python'}) <class 'frozenset'> 140267536339168 3\n",
      "frozenset({'cobra', 'python', 'viper'}) <class 'frozenset'> 140267536340512 3\n",
      "frozenset({'python'}) 1 <class 'frozenset'> 140267536340064\n",
      "frozenset({'python'}) 1 <class 'frozenset'> 140267536339392\n"
     ]
    }
   ],
   "source": [
    "languages =frozenset(['C++','python','java'])\n",
    "print(languages , type(languages),id(languages),len(languages))             \n",
    "snakes = frozenset(['cobra','viper','python'])\n",
    "print(snakes , type(snakes),id(snakes),len(snakes))        \n",
    "\n",
    "result = languages.intersection(snakes)\n",
    "print(result , len(result),type(result),id(result))\n",
    "\n",
    "result = languages & snakes\n",
    "print(result , len(result),type(result),id(result))"
   ]
  },
  {
   "cell_type": "code",
   "execution_count": 29,
   "id": "f23981d9-493f-4afc-a939-69ec94a7a704",
   "metadata": {},
   "outputs": [
    {
     "name": "stdout",
     "output_type": "stream",
     "text": [
      "frozenset({'C++', 'Java', 'python'}) 3 <class 'frozenset'> 140267536338944\n",
      "frozenset({'cobra', 'python', 'viper'}) 3 <class 'frozenset'> 140267536340064\n",
      "frozenset({'Java', 'C++', 'viper', 'cobra'}) 4 <class 'frozenset'> 140267536339840\n",
      "frozenset({'Java', 'C++', 'viper', 'cobra'}) 4 <class 'frozenset'> 140267536339392\n"
     ]
    }
   ],
   "source": [
    "language = frozenset({'C++','python','Java'})\n",
    "print(language , len(language) , type(language) , id(language))\n",
    "\n",
    "snakes = frozenset({'cobra','viper','python'})\n",
    "print(snakes , len(snakes),type(snakes),id(snakes))\n",
    "\n",
    "result = language.symmetric_difference(snakes)\n",
    "print(result , len(result),type(result),id(result))\n",
    "\n",
    "result = language ^snakes\n",
    "print(result , len(result),type(result),id(result))"
   ]
  },
  {
   "cell_type": "code",
   "execution_count": 30,
   "id": "f8c71a63-a657-4f9a-b2ee-479c30400448",
   "metadata": {},
   "outputs": [
    {
     "name": "stdout",
     "output_type": "stream",
     "text": [
      "frozenset({'C++', 'Java', 'python'}) 3 <class 'frozenset'> 140267536341408\n",
      "frozenset({'cobra', 'python', 'viper'}) 3 <class 'frozenset'> 140267536341856\n",
      "frozenset({'C++', 'Java'}) 2 <class 'frozenset'> 140267536340064\n",
      "frozenset({'C++', 'Java'}) 2 <class 'frozenset'> 140267536339392\n",
      "\n"
     ]
    }
   ],
   "source": [
    "language = frozenset({'C++','python','Java'})\n",
    "print(language , len(language) , type(language) , id(language))\n",
    "\n",
    "snakes = frozenset({'cobra','viper','python'})\n",
    "print(snakes , len(snakes),type(snakes),id(snakes))\n",
    "result = language.difference(snakes)\n",
    "print(result , len(result),type(result),id(result))\n",
    "\n",
    "result = language - snakes\n",
    "print(result , len(result),type(result),id(result))\n",
    "print()"
   ]
  },
  {
   "cell_type": "code",
   "execution_count": 31,
   "id": "d9d1a9fa-97db-4dd1-abe8-e3188033cd86",
   "metadata": {},
   "outputs": [
    {
     "name": "stdout",
     "output_type": "stream",
     "text": [
      "False True True False\n",
      "False True\n"
     ]
    }
   ],
   "source": [
    "set1 = frozenset({ 100,200,300,400,500})\n",
    "set2 =frozenset( {100,300,400})\n",
    "set3 = frozenset({600,700,800,900})\n",
    "\n",
    "print(set1.issubset(set2),set2.issubset(set1),set1.issuperset(set2),set2.issuperset(set1))\n",
    "print(set1.isdisjoint(set2),set1.isdisjoint(set3))"
   ]
  }
 ],
 "metadata": {
  "kernelspec": {
   "display_name": "Python 3 (ipykernel)",
   "language": "python",
   "name": "python3"
  },
  "language_info": {
   "codemirror_mode": {
    "name": "ipython",
    "version": 3
   },
   "file_extension": ".py",
   "mimetype": "text/x-python",
   "name": "python",
   "nbconvert_exporter": "python",
   "pygments_lexer": "ipython3",
   "version": "3.13.2"
  }
 },
 "nbformat": 4,
 "nbformat_minor": 5
}
