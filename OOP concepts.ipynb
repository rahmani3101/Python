{
 "cells": [
  {
   "cell_type": "markdown",
   "id": "af06a2e2-35df-48a5-8e81-9be08c2b65f5",
   "metadata": {},
   "source": [
    "Dealing with Inheritance"
   ]
  },
  {
   "cell_type": "code",
   "execution_count": 4,
   "id": "f3366f96-282d-4756-833d-dc00c32e3df5",
   "metadata": {},
   "outputs": [
    {
     "name": "stdout",
     "output_type": "stream",
     "text": [
      "Derived :  Constructor method is executing...\n",
      "Base Constructor method is executing...\n",
      "Base Constructor method is executing...\n",
      "Base Constructor method is executing...\n",
      "Base Constructor method is executing...\n",
      "\n",
      "Base : Display is executing\n",
      "Base : Display is executing\n"
     ]
    }
   ],
   "source": [
    "#Single Inheritance\n",
    "class Base:\n",
    "    def __init__(self):\n",
    "        print(\"Base Constructor method is executing...\")\n",
    "    def displayB(self):\n",
    "        print(\"Base : Display is executing\")\n",
    "\n",
    "class Derived(Base):\n",
    "    def __init__(self):\n",
    "        print(\"Derived :  Constructor method is executing...\")\n",
    "        Base.__init__(self)\n",
    "        super().__init__()\n",
    "        super(Derived,self).__init__()\n",
    "    def displayD(self):  \n",
    "        print('Derived : Display is executing...')\n",
    "\n",
    "ob = Derived()\n",
    "Base.__init__(ob)\n",
    "\n",
    "print()\n",
    "ob.displayB()\n",
    "ob.displayB()"
   ]
  },
  {
   "cell_type": "code",
   "execution_count": 7,
   "id": "e492a3e2-ea9d-4cea-9d10-dfd6603ef15d",
   "metadata": {},
   "outputs": [
    {
     "name": "stdout",
     "output_type": "stream",
     "text": [
      "Base : Constructor method is executing...\n",
      "Base : Display method is executing ...\n",
      "Derived 1  : Display method is executing ...\n",
      "Derived 2  : Display method is executing ...\n",
      "Derived 2 : Function method is executing...\n",
      "Derived 1 : Function method is executing...\n",
      "Derived 1 : Function method is executing...\n",
      "Base : Function method is executing...\n",
      "Base : Function method is executing...\n"
     ]
    }
   ],
   "source": [
    "# Multilevel Inheritance\n",
    "\n",
    "class Base:\n",
    "    def __init__(self):\n",
    "        print(\"Base : Constructor method is executing...\")\n",
    "    def displayB(self):\n",
    "        print(\"Base : Display method is executing ...\")\n",
    "    def function(self):\n",
    "        print(\"Base : Function method is executing...\")\n",
    "\n",
    "class Derived1(Base):\n",
    "    def displayD1(self):\n",
    "        print(\"Derived 1  : Display method is executing ...\")\n",
    "    def function(self):\n",
    "        print(\"Derived 1 : Function method is executing...\")    \n",
    "\n",
    "class Derived2(Derived1):\n",
    "    def displayD2(self):\n",
    "        print(\"Derived 2  : Display method is executing ...\")\n",
    "    def function(self):\n",
    "        print(\"Derived 2 : Function method is executing...\")  \n",
    "\n",
    "ob = Derived2()\n",
    "ob.displayB()\n",
    "ob.displayD1()\n",
    "ob.displayD2()\n",
    "\n",
    "ob.function()\n",
    "super(Derived2 , ob).function()\n",
    "Derived1.function(ob)\n",
    "\n",
    "Base.function(ob)\n",
    "super(Derived1 , ob).function()"
   ]
  },
  {
   "cell_type": "code",
   "execution_count": 9,
   "id": "1012e2a8-7ef0-4ebe-b5e0-e9e57cf5cda0",
   "metadata": {},
   "outputs": [
    {
     "name": "stdout",
     "output_type": "stream",
     "text": [
      "Base1 : Constructor is executing...\n",
      "Base 1 : Display is executing...\n",
      "Base 2 : Display is executing...\n",
      "Derived : Display is executing...\n",
      "Base1 : Function method is executing...\n"
     ]
    }
   ],
   "source": [
    "# Multiple Inheritance\n",
    "\n",
    "class Base1:\n",
    "    def __init__(self):\n",
    "        print(\"Base1 : Constructor is executing...\")\n",
    "    def displayB1(self):\n",
    "        print(\"Base 1 : Display is executing...\")\n",
    "    def function(self):\n",
    "        print(\"Base1 : Function method is executing...\")\n",
    "\n",
    "class Base2:\n",
    "    def __init__(self):\n",
    "        print(\"Base 2 : Constructor is executing...\")\n",
    "    def displayB2(self):\n",
    "        print(\"Base 2 : Display is executing...\")\n",
    "    def function(self):\n",
    "        print(\"Base 2 : Function method is executing...\")      \n",
    "\n",
    "\n",
    "class Derived(Base1, Base2):\n",
    "    def displayD(self):\n",
    "        print(\"Derived : Display is executing...\")\n",
    "\n",
    "ob = Derived()\n",
    "ob.displayB1()\n",
    "ob.displayB2()\n",
    "ob.displayD()\n",
    "ob.function()"
   ]
  },
  {
   "cell_type": "code",
   "execution_count": 12,
   "id": "3b1f77c1-cf29-4bf3-8e67-a9fe624cc0f3",
   "metadata": {},
   "outputs": [
    {
     "name": "stdout",
     "output_type": "stream",
     "text": [
      "Creating object of child 1 \n",
      "Parent : Constructor method is executing...\n",
      "Child1 : Constructor method is executing..\n",
      "Parent : Display method is executing..\n",
      "Child1 : Display is executing...\n",
      "Parent : Function methos is executing...\n",
      "Child1 : Function is executing...\n",
      "Creating object for child 2\n",
      "Parent : Constructor method is executing...\n",
      "Child2 : Constructor method is executing..\n",
      "Parent : Display method is executing..\n",
      "Child2 : Display is executing...\n",
      "Parent : Function methos is executing...\n",
      "Child2 : Function is executing...\n"
     ]
    }
   ],
   "source": [
    "# Hierarchical Inheritance\n",
    "\n",
    "class Parent:\n",
    "    def __init__(self):\n",
    "        print(\"Parent : Constructor method is executing...\")\n",
    "    def parent_display(self):\n",
    "        print(\"Parent : Display method is executing..\")\n",
    "    def parent_function(self):\n",
    "        print(\"Parent : Function methos is executing...\")\n",
    "\n",
    "class Child1(Parent):\n",
    "    def __init__(self):\n",
    "        super().__init__()\n",
    "        print(\"Child1 : Constructor method is executing..\")\n",
    "    def child1_display(self):\n",
    "        print(\"Child1 : Display is executing...\")\n",
    "    def child1_function(self):\n",
    "        print(\"Child1 : Function is executing...\")\n",
    "    \n",
    "class Child2(Parent):\n",
    "    def __init__(self):\n",
    "        super().__init__()\n",
    "        print(\"Child2 : Constructor method is executing..\")\n",
    "    def child2_display(self):\n",
    "        print(\"Child2 : Display is executing...\")\n",
    "    def child2_function(self):\n",
    "        print(\"Child2 : Function is executing...\")    \n",
    "\n",
    "\n",
    "print(\"Creating object of child 1 \")\n",
    "c1 = Child1()\n",
    "c1.parent_display()\n",
    "c1.child1_display()\n",
    "c1.parent_function()\n",
    "c1.child1_function()\n",
    "\n",
    "print(\"Creating object for child 2\")\n",
    "c2 = Child2()\n",
    "c2.parent_display()\n",
    "c2.child2_display()\n",
    "c2.parent_function()\n",
    "c2.child2_function()"
   ]
  },
  {
   "cell_type": "code",
   "execution_count": 13,
   "id": "090b9ea2-6b76-46d7-ab86-ad5bf8b39e78",
   "metadata": {},
   "outputs": [
    {
     "name": "stdout",
     "output_type": "stream",
     "text": [
      "\n",
      " Creating object of Child :\n",
      "GrandParent : Constructor method is executing...\n",
      "Parent1 : Constructor mthod is executing...\n",
      "Parent2 : Constructor mthod is executing...\n",
      "Child : Constructor is executing...\n",
      "GrandParent : Display is executing...\n",
      "Parent1 : Display is executing...\n",
      "Parent2 : Display is executing...\n",
      "Child: Disp[lay method is executing....\n"
     ]
    }
   ],
   "source": [
    "# Hybrid Inheritance\n",
    "\n",
    "class GrandParent:\n",
    "    def __init__(self):\n",
    "        print(\"GrandParent : Constructor method is executing...\")\n",
    "    def displayGP(self):\n",
    "        print(\"GrandParent : Display is executing...\")\n",
    "\n",
    "class Parent1(GrandParent):\n",
    "    def __init__(self):\n",
    "        super().__init__()\n",
    "        print(\"Parent1 : Constructor mthod is executing...\")\n",
    "    def displayP1(self):\n",
    "        print(\"Parent1 : Display is executing...\")\n",
    "\n",
    "        \n",
    "class Parent2:\n",
    "    def __init__(self):\n",
    "        super().__init__()\n",
    "        print(\"Parent2 : Constructor mthod is executing...\")\n",
    "    def displayP2(self):\n",
    "        print(\"Parent2 : Display is executing...\")\n",
    "\n",
    "class Child(Parent1 , Parent2):\n",
    "    def __init__(self):\n",
    "        Parent1.__init__(self)\n",
    "        Parent2.__init__(self)\n",
    "        print(\"Child : Constructor is executing...\")\n",
    "\n",
    "    def show_child(self):\n",
    "        print(\"Child: Disp[lay method is executing....\")\n",
    "\n",
    "print(\"\\n Creating object of Child :\")\n",
    "c = Child()\n",
    "c.displayGP()\n",
    "c.displayP1()\n",
    "c.displayP2()\n",
    "c.show_child()           "
   ]
  },
  {
   "cell_type": "markdown",
   "id": "70c7ae83-1d28-4c48-b750-66ef200e0b77",
   "metadata": {},
   "source": [
    "## Operator Overloading"
   ]
  },
  {
   "cell_type": "markdown",
   "id": "229c93c3-6dfb-49e3-a930-498cc39fa6cf",
   "metadata": {},
   "source": [
    "the add method is a special method used to define the behaviour of the + operator for objects of a class. This method allows you to specify how two objects of the same type(or compatiable types) should base added together with the + operator is used."
   ]
  },
  {
   "cell_type": "code",
   "execution_count": 19,
   "id": "ff3f2573-aeda-40cf-bdbf-f6bab90336ae",
   "metadata": {},
   "outputs": [
    {
     "name": "stdout",
     "output_type": "stream",
     "text": [
      "So 300 + 200 = 500\n",
      "So 300 + 200 = 500\n",
      "So 300 * 200 = 60000\n",
      "So 300 * 200 = 60000\n",
      "So 300 / 200 = 1.5\n",
      "So 300 / 200 = 1.5\n",
      "So 300 // 200 = 1\n",
      "So 300 // 200 = 1\n",
      "So 300 % 200 = 100\n",
      "So 300 % 200 = 100\n"
     ]
    }
   ],
   "source": [
    "a = 300\n",
    "b=200\n",
    "result = a+b\n",
    "print(f\"So {a} + {b} = {result}\")\n",
    "\n",
    "result = a.__add__(b)\n",
    "print(f\"So {a} + {b} = {result}\")\n",
    "\n",
    "result = a*b\n",
    "print(f\"So {a} * {b} = {result}\")\n",
    "\n",
    "result = a.__mul__(b)\n",
    "print(f\"So {a} * {b} = {result}\")\n",
    "\n",
    "result = a / b   #float division\n",
    "print(f\"So {a} / {b} = {result}\")\n",
    "\n",
    "result = a.__truediv__(b)\n",
    "print(f\"So {a} / {b} = {result}\")\n",
    "\n",
    "result = a // b\n",
    "print(f\"So {a} // {b} = {result}\")\n",
    "\n",
    "result = a.__floordiv__(b)\n",
    "print(f\"So {a} // {b} = {result}\")\n",
    "\n",
    "\n",
    "result = a % b\n",
    "print(f\"So {a} % {b} = {result}\")\n",
    "\n",
    "result = a.__mod__(b)\n",
    "print(f\"So {a} % {b} = {result}\")"
   ]
  },
  {
   "cell_type": "code",
   "execution_count": 20,
   "id": "2ade1c30-c6a6-4342-b12c-f67d274b70ed",
   "metadata": {},
   "outputs": [
    {
     "name": "stdout",
     "output_type": "stream",
     "text": [
      "So 300 > 200 = True\n",
      "So 300 > 200 = True\n",
      "So 300 <= 200 = False\n",
      "So 300 <= 200 = False\n"
     ]
    }
   ],
   "source": [
    "a = 300\n",
    "b = 200\n",
    "result = a > b\n",
    "print(f\"So {a} > {b} = {result}\")\n",
    "\n",
    "result = a.__gt__(b)\n",
    "print(f\"So {a} > {b} = {result}\")\n",
    "\n",
    "result = a <= b\n",
    "print(f\"So {a} <= {b} = {result}\")\n",
    "\n",
    "result = a.__le__(b)\n",
    "print(f\"So {a} <= {b} = {result}\")"
   ]
  },
  {
   "cell_type": "code",
   "execution_count": 24,
   "id": "95a5244c-1e3d-463f-9638-ceaddd11f024",
   "metadata": {},
   "outputs": [
    {
     "name": "stdout",
     "output_type": "stream",
     "text": [
      "ob.x = 12  and ob.y = 5...\n",
      "ob2.x = 2 and ob2.y = 10...\n",
      "After performing the addition operation\n",
      "result.x = 14 and result.y = 15\n",
      "False\n"
     ]
    }
   ],
   "source": [
    "class MyClass:\n",
    "    def __init__(self,xx,yy):\n",
    "        self.x = xx\n",
    "        self.y =yy\n",
    "        \n",
    "    def __add__(self,ob):\n",
    "        temp = MyClass(0,0)\n",
    "        temp.x = self.x + ob.x\n",
    "        temp.y = self.y + ob.y\n",
    "        return temp\n",
    "\n",
    "    def __gt__(self, ob):\n",
    "        temp = MyClass(0,0)\n",
    "        temp.x = self.x + ob.x\n",
    "        temp.y = self.y + ob.y\n",
    "        return temp.x > temp.y\n",
    "\n",
    "ob = MyClass(12 , 5)\n",
    "ob2 = MyClass(2 , 10)\n",
    "print(f\"ob.x = {ob.x}  and ob.y = {ob.y}...\")\n",
    "print(f\"ob2.x = {ob2.x} and ob2.y = {ob2.y}...\")\n",
    "\n",
    "print(\"After performing the addition operation\")\n",
    "result = ob + ob2\n",
    "print(f\"result.x = {result.x} and result.y = {result.y}\")\n",
    "\n",
    "result = ob > ob2\n",
    "print(result)"
   ]
  },
  {
   "cell_type": "markdown",
   "id": "7d3ac24d-a825-4fd0-88a6-fc7b52f21c92",
   "metadata": {},
   "source": [
    "## Method Overloading"
   ]
  },
  {
   "cell_type": "code",
   "execution_count": 25,
   "id": "add7e1cf-e210-4314-a171-e4cd95173988",
   "metadata": {},
   "outputs": [
    {
     "name": "stdout",
     "output_type": "stream",
     "text": [
      "5\n",
      "12\n",
      "21\n"
     ]
    }
   ],
   "source": [
    "#USING DEFAULT ARGUMENTS\n",
    "class MathOperations:\n",
    "    def add(self,a,b=0,c=0):\n",
    "        return a+b+c\n",
    "math_ops = MathOperations()\n",
    "print(math_ops.add(5))\n",
    "print(math_ops.add(5,7))\n",
    "print(math_ops.add(5,7,9))"
   ]
  },
  {
   "cell_type": "code",
   "execution_count": 33,
   "id": "5b44240e-cb78-45f8-8f53-d1feaaac60dd",
   "metadata": {},
   "outputs": [
    {
     "name": "stdout",
     "output_type": "stream",
     "text": [
      "5\n",
      "12\n",
      "21\n",
      "132\n"
     ]
    }
   ],
   "source": [
    "# Variable Length Arguments\n",
    "\n",
    "class MathOperations:\n",
    "    def add(self,*args):\n",
    "        return sum(args)\n",
    "\n",
    "math_ops = MathOperations()\n",
    "print(math_ops.add(5))\n",
    "print(math_ops.add(5,7))\n",
    "print(math_ops.add(5,7,9))\n",
    "print(math_ops.add(5,7,9,111))"
   ]
  },
  {
   "cell_type": "markdown",
   "id": "92e8d79e-38fa-43ba-b6c0-cadc769c5c3c",
   "metadata": {},
   "source": [
    "## Data Abstraction"
   ]
  },
  {
   "cell_type": "markdown",
   "id": "a1e8a85d-472d-429c-9246-76b206e56936",
   "metadata": {},
   "source": [
    "It is used to hide irrelevent details from the user and show the details that are relevant to the users."
   ]
  },
  {
   "cell_type": "markdown",
   "id": "55404ba3-3fba-404d-91c2-45325f1d6376",
   "metadata": {},
   "source": [
    "## Abstract Class and Interface"
   ]
  },
  {
   "cell_type": "markdown",
   "id": "10479300-8ae7-448f-a803-140960a46c60",
   "metadata": {},
   "source": [
    "Abstract class is a class in which one or more abstract methods are defined.When a method is declared inside the class without its implementation is known as abstract method."
   ]
  },
  {
   "cell_type": "markdown",
   "id": "d639cf6f-1eb9-43b8-ac65-e9eb1c5c73e4",
   "metadata": {},
   "source": [
    "It is developer job to write code for abstract class while in interface any third party vendor will take responsibility to write child class."
   ]
  },
  {
   "cell_type": "code",
   "execution_count": 35,
   "id": "313a3ba7-1574-47b5-a313-b4d9dce822ca",
   "metadata": {},
   "outputs": [
    {
     "name": "stdout",
     "output_type": "stream",
     "text": [
      "Abstract class constructor...\n",
      "Abstract method is redefining...\n",
      "Concrete Method() is executing...\n"
     ]
    }
   ],
   "source": [
    "# abstract class\n",
    "\n",
    "from abc import ABC , abstractmethod   # here ABC stand for abstract Base Class\n",
    "\n",
    "class MyAbstractBaseClass(ABC):\n",
    "    def __init__(Self):\n",
    "        print(\"Abstract class constructor...\")\n",
    "    @abstractmethod\n",
    "    def abstractMethod(self):\n",
    "        pass\n",
    "\n",
    "    def concreteMethod(self):\n",
    "        print(\"Concrete Method() is executing...\")\n",
    "\n",
    "class Derived(MyAbstractBaseClass):\n",
    "    def abstractMethod(self):\n",
    "        print(\"Abstract method is redefining...\")\n",
    "\n",
    "ob = Derived()\n",
    "ob.abstractMethod()\n",
    "ob.concreteMethod()\n",
    "        "
   ]
  },
  {
   "cell_type": "code",
   "execution_count": 37,
   "id": "019fa41b-2f0d-4e66-8058-5f514a5f991f",
   "metadata": {},
   "outputs": [
    {
     "name": "stdout",
     "output_type": "stream",
     "text": [
      "Brand: Hyundai\n",
      "Model:  Verna\n",
      "Year :  2025\n",
      "Speed Up..\n",
      "Brand: Toyota\n",
      "Model:  Hilux\n",
      "Year :  2025\n",
      "Car Stop\n"
     ]
    }
   ],
   "source": [
    "# import required modules\\\n",
    "from abc import ABC , abstractmethod\n",
    "\n",
    "#create abstract base class\n",
    "class Car(ABC):\n",
    "    def __init__(self,brand,model ,year):\n",
    "        self.brand= brand\n",
    "        self.model = model\n",
    "        self.year = year\n",
    "\n",
    "    #create abstract method\n",
    "    @abstractmethod\n",
    "    def printDetails(self):\n",
    "        pass\n",
    "    def accelerate(self):\n",
    "        print(\"Speed Up..\")\n",
    "    def break_applied(self):\n",
    "        print(\"Car Stop\")\n",
    "\n",
    "#create a child class\n",
    "class Sedan(Car):\n",
    "    def printDetails(self):\n",
    "        print(\"Brand:\",self.brand)\n",
    "        print(\"Model:\",self.model);\n",
    "        print(\"Year : \" , self.year)\n",
    "\n",
    "    def Sunroof(self):\n",
    "        print(\"No it is not having this feature\")\n",
    "\n",
    "#create a child class\n",
    "class SUV(Car):\n",
    "    def printDetails(self):\n",
    "        print(\"Brand:\",self.brand)\n",
    "        print(\"Model:\",self.model);\n",
    "        print(\"Year : \" , self.year)\n",
    "\n",
    "    def Sunroof(self):\n",
    "        print(\"Available\")\n",
    "\n",
    "\n",
    "car1 = Sedan(\"Hyundai\" , \" Verna\" , 2025)\n",
    "car1.printDetails()\n",
    "car1.accelerate()\n",
    "\n",
    "car1 = SUV(\"Toyota\" , \" Hilux\" , 2025)\n",
    "car1.printDetails()\n",
    "car1.break_applied()\n",
    "        "
   ]
  },
  {
   "cell_type": "code",
   "execution_count": null,
   "id": "9047b9b7-60e3-4c4e-a197-581b7c7a756c",
   "metadata": {},
   "outputs": [],
   "source": []
  }
 ],
 "metadata": {
  "kernelspec": {
   "display_name": "Python 3 (ipykernel)",
   "language": "python",
   "name": "python3"
  },
  "language_info": {
   "codemirror_mode": {
    "name": "ipython",
    "version": 3
   },
   "file_extension": ".py",
   "mimetype": "text/x-python",
   "name": "python",
   "nbconvert_exporter": "python",
   "pygments_lexer": "ipython3",
   "version": "3.13.3"
  }
 },
 "nbformat": 4,
 "nbformat_minor": 5
}
