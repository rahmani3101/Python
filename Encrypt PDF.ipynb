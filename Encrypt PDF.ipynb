{
 "cells": [
  {
   "cell_type": "markdown",
   "id": "1a89f099-3bac-4b99-a957-9641077234f6",
   "metadata": {},
   "source": [
    "## Encrypt PDF as Password Protected"
   ]
  },
  {
   "cell_type": "code",
   "execution_count": 1,
   "id": "ddf3545d-b08a-467e-86cc-cec7e2f815b8",
   "metadata": {},
   "outputs": [
    {
     "name": "stdout",
     "output_type": "stream",
     "text": [
      "Defaulting to user installation because normal site-packages is not writeable\n",
      "Collecting pikepdf\n",
      "  Downloading pikepdf-9.7.0-cp313-cp313-manylinux_2_17_x86_64.manylinux2014_x86_64.whl.metadata (8.1 kB)\n",
      "Requirement already satisfied: Pillow>=10.0.1 in /usr/lib64/python3.13/site-packages (from pikepdf) (11.0.0)\n",
      "Collecting Deprecated (from pikepdf)\n",
      "  Downloading Deprecated-1.2.18-py2.py3-none-any.whl.metadata (5.7 kB)\n",
      "Requirement already satisfied: lxml>=4.8 in /home/falcon/.local/lib/python3.13/site-packages (from pikepdf) (5.3.1)\n",
      "Requirement already satisfied: packaging in /usr/lib/python3.13/site-packages (from pikepdf) (24.2)\n",
      "Collecting wrapt<2,>=1.10 (from Deprecated->pikepdf)\n",
      "  Downloading wrapt-1.17.2-cp313-cp313-manylinux_2_5_x86_64.manylinux1_x86_64.manylinux_2_17_x86_64.manylinux2014_x86_64.whl.metadata (6.4 kB)\n",
      "Downloading pikepdf-9.7.0-cp313-cp313-manylinux_2_17_x86_64.manylinux2014_x86_64.whl (2.4 MB)\n",
      "\u001b[2K   \u001b[38;2;114;156;31m━━━━━━━━━━━━━━━━━━━━━━━━━━━━━━━━━━━━━━━━\u001b[0m \u001b[32m2.4/2.4 MB\u001b[0m \u001b[31m636.9 kB/s\u001b[0m eta \u001b[36m0:00:00\u001b[0m1m633.6 kB/s\u001b[0m eta \u001b[36m0:00:01\u001b[0m\n",
      "Downloading Deprecated-1.2.18-py2.py3-none-any.whl (10.0 kB)\n",
      "Downloading wrapt-1.17.2-cp313-cp313-manylinux_2_5_x86_64.manylinux1_x86_64.manylinux_2_17_x86_64.manylinux2014_x86_64.whl (89 kB)\n",
      "Installing collected packages: wrapt, Deprecated, pikepdf\n",
      "Successfully installed Deprecated-1.2.18 pikepdf-9.7.0 wrapt-1.17.2\n"
     ]
    }
   ],
   "source": [
    "!pip install pikepdf"
   ]
  },
  {
   "cell_type": "code",
   "execution_count": 15,
   "id": "62df815f-1859-4ff7-a8c5-fc79b359c2c9",
   "metadata": {},
   "outputs": [],
   "source": [
    "import pikepdf\n",
    "old_pdf = pikepdf.Pdf.open(\"OperatingSystem.pdf\", allow_overwriting_input=True)"
   ]
  },
  {
   "cell_type": "code",
   "execution_count": 16,
   "id": "cc5bcd90-b0e1-439d-9f2a-0e6d91157f0d",
   "metadata": {},
   "outputs": [],
   "source": [
    "no_extr = pikepdf.Permissions(extract = False)"
   ]
  },
  {
   "cell_type": "code",
   "execution_count": 18,
   "id": "43e35b04-2ce1-4db2-b17e-5846fa94c6bd",
   "metadata": {},
   "outputs": [],
   "source": [
    "old_pdf.save(\"OperatingSystem_new.pdf\", encryption = pikepdf.Encryption(user = \"password aaega yha\", owner = \"asad\", allow = no_extr))"
   ]
  }
 ],
 "metadata": {
  "kernelspec": {
   "display_name": "Python 3 (ipykernel)",
   "language": "python",
   "name": "python3"
  },
  "language_info": {
   "codemirror_mode": {
    "name": "ipython",
    "version": 3
   },
   "file_extension": ".py",
   "mimetype": "text/x-python",
   "name": "python",
   "nbconvert_exporter": "python",
   "pygments_lexer": "ipython3",
   "version": "3.13.3"
  }
 },
 "nbformat": 4,
 "nbformat_minor": 5
}
