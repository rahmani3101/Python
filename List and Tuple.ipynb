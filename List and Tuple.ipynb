{
 "cells": [
  {
   "cell_type": "code",
   "execution_count": 1,
   "id": "571a617a-993d-4364-bb3d-bc8938fa4147",
   "metadata": {},
   "outputs": [
    {
     "name": "stdout",
     "output_type": "stream",
     "text": [
      "[['Monday', 'Thrusday', 'saturday'], ['Friday', 'Sunday']] 2 <class 'list'> 140035922970368\n",
      "Thrusday Monday Sunday Sunday\n",
      "tur\n"
     ]
    }
   ],
   "source": [
    "list1 =[['Monday','Thrusday','saturday'],['Friday','Sunday']]\n",
    "print(list1,len(list1),type(list1),id(list1))\n",
    "print(list1[0][1] , list1[-2][-3],list1[1][1],list1[-1][-1])\n",
    "print(list1[0][2][2:5])"
   ]
  },
  {
   "cell_type": "code",
   "execution_count": 2,
   "id": "ae9162e7-0201-410f-b8d7-12db69f39735",
   "metadata": {},
   "outputs": [
    {
     "name": "stdout",
     "output_type": "stream",
     "text": [
      "rus\n"
     ]
    }
   ],
   "source": [
    "print(list1[-2][-2][-6:-3])"
   ]
  },
  {
   "cell_type": "code",
   "execution_count": 3,
   "id": "120e95dd-0d4d-46ac-9d2a-bba6dd47019c",
   "metadata": {},
   "outputs": [
    {
     "name": "stdout",
     "output_type": "stream",
     "text": [
      "[27, 16, 14, 2, 31, 22] 6 <class 'list'> 140036403367808\n",
      "[2, 14, 16, 22, 27, 31] 6 <class 'list'> 140036403367808\n",
      "[31, 27, 22, 16, 14, 2] 6 <class 'list'> 140036403367808\n"
     ]
    }
   ],
   "source": [
    "list1=[27,16,14,2,31,22]\n",
    "print(list1,len(list1),type(list1),id(list1))\n",
    "\n",
    "list1.sort()\n",
    "print(list1,len(list1),type(list1),id(list1))\n",
    "\n",
    "list1.sort(reverse=True)\n",
    "print(list1,len(list1),type(list1),id(list1))"
   ]
  },
  {
   "cell_type": "code",
   "execution_count": 5,
   "id": "9796a46e-93df-4dfa-a2c3-ed419e162bbe",
   "metadata": {},
   "outputs": [
    {
     "name": "stdout",
     "output_type": "stream",
     "text": [
      "[27, 16, 14, 2, 31, 22] 6 <class 'list'> 140035922975104\n",
      "[2, 14, 16, 22, 27, 31] 6 <class 'list'> 140036403367808\n",
      "[31, 27, 22, 16, 14, 2] 6 <class 'list'> 140035922914368\n"
     ]
    }
   ],
   "source": [
    "list1=[27,16,14,2,31,22]\n",
    "print(list1,len(list1),type(list1),id(list1))\n",
    "\n",
    "result = sorted(list1)\n",
    "print(result,len(result),type(result),id(result))\n",
    "\n",
    "result = sorted(list1,reverse = True)\n",
    "print(result,len(result),type(result),id(result))"
   ]
  },
  {
   "cell_type": "code",
   "execution_count": 10,
   "id": "45ff0cb5-3105-46c2-a860-bebba9594da8",
   "metadata": {},
   "outputs": [
    {
     "name": "stdout",
     "output_type": "stream",
     "text": [
      "['Monday', 'Thrusday', 'Saturday', 'Tuesday', 'Saturday', 'Friday', 'Sunday', 'Saturday'] 8 <class 'list'> 140035922973440\n",
      "3\n",
      "1\n"
     ]
    }
   ],
   "source": [
    "list1=['Monday','Thrusday','Saturday','Tuesday','Saturday','Friday','Sunday','Saturday']\n",
    "print(list1,len(list1),type(list1),id(list1))\n",
    "print(list1.count('Saturday'))\n",
    "print(list1.count('Tuesday'))"
   ]
  },
  {
   "cell_type": "code",
   "execution_count": 12,
   "id": "275072e7-90b3-438a-9759-2b8347ff4d5b",
   "metadata": {},
   "outputs": [
    {
     "name": "stdout",
     "output_type": "stream",
     "text": [
      "Sunday\n",
      "['Monday', 'Thrusday', 'Saturday', 'Saturday', 'Friday'] 5 <class 'list'> 140035922973440\n",
      "Saturday\n",
      "['Monday', 'Thrusday', 'Saturday', 'Friday'] 4 <class 'list'> 140035922973440\n",
      "Monday\n",
      "['Thrusday', 'Saturday', 'Friday'] 3 <class 'list'> 140035922973440\n"
     ]
    }
   ],
   "source": [
    "print(list1.pop())\n",
    "print(list1,len(list1),type(list1),id(list1))\n",
    "print(list1.pop(3))\n",
    "print(list1,len(list1),type(list1),id(list1))\n",
    "print(list1.pop(0))\n",
    "print(list1,len(list1),type(list1),id(list1))"
   ]
  },
  {
   "cell_type": "code",
   "execution_count": 13,
   "id": "3678f74a-78b4-4605-9edb-5190c34aa002",
   "metadata": {},
   "outputs": [
    {
     "name": "stdout",
     "output_type": "stream",
     "text": [
      "['Monday', 'Thrusday', 'Saturday', 'Tuesday', 'Saturday', 'Friday', 'Sunday', 'Saturday'] 8 <class 'list'> 140035922916992\n",
      "['Monday', 'Thrusday', 'Saturday', 'Tuesday', 'Saturday', 'Friday', 'Sunday', 'Saturday'] 8 <class 'list'> 140035922916992\n",
      "['Wednesday', 'Thrusday', 'Saturday', 'Tuesday', 'Saturday', 'Friday', 'Sunday', 'Saturday'] 8 <class 'list'> 140035922916992\n",
      "['Wednesday', 'Thrusday', 'Saturday', 'Tuesday', 'Saturday', 'Friday', 'Sunday', 'Saturday'] 8 <class 'list'> 140035922916992\n"
     ]
    }
   ],
   "source": [
    "list1=['Monday','Thrusday','Saturday','Tuesday','Saturday','Friday','Sunday','Saturday']\n",
    "print(list1,len(list1),type(list1),id(list1))\n",
    "list2 = list1\n",
    "print(list2,len(list2),type(list2),id(list2))\n",
    "\n",
    "list1[0]='Wednesday'\n",
    "print(list1,len(list1),type(list1),id(list1))\n",
    "print(list2,len(list2),type(list2),id(list2))"
   ]
  },
  {
   "cell_type": "code",
   "execution_count": 16,
   "id": "88996d44-d8e1-49d7-8bdd-9d4b49e7f461",
   "metadata": {},
   "outputs": [
    {
     "name": "stdout",
     "output_type": "stream",
     "text": [
      "['Monday', 'Thrusday', 'Saturday', 'Tuesday', 'Saturday', 'Friday', 'Sunday', 'Saturday'] 8 <class 'list'> 140035922973440\n",
      "['Monday', 'Thrusday', 'Saturday', 'Tuesday', 'Saturday', 'Friday', 'Sunday', 'Saturday'] 8 <class 'list'> 140035922916992\n",
      "['Monday', 'Thrusday', 'Saturday', 'Tuesday', 'Saturday', 'Friday', 'Sunday', 'Saturday'] 8 <class 'list'> 140035922973440\n",
      "['Monday', 'Friday', 'Saturday', 'Tuesday', 'Saturday', 'Friday', 'Sunday', 'Saturday'] 8 <class 'list'> 140035922916992\n"
     ]
    }
   ],
   "source": [
    "list1=['Monday','Thrusday','Saturday','Tuesday','Saturday','Friday','Sunday','Saturday']\n",
    "print(list1,len(list1),type(list1),id(list1))\n",
    "list2[:]= list1  #Slicing\n",
    "print(list2,len(list2),type(list2),id(list2))\n",
    "\n",
    "list2[1]='Friday'\n",
    "print(list1,len(list1),type(list1),id(list1))\n",
    "print(list2,len(list2),type(list2),id(list2))"
   ]
  },
  {
   "cell_type": "code",
   "execution_count": 18,
   "id": "2fe2aa94-7deb-4e07-b96e-5f2a013a4a97",
   "metadata": {},
   "outputs": [
    {
     "name": "stdout",
     "output_type": "stream",
     "text": [
      "['Monday', 'Thrusday', 'Saturday', 'Tuesday', 'Saturday', 'Friday', 'Sunday', 'Saturday'] 8 <class 'list'> 140035922973440\n",
      "['Monday', 'Thrusday', 'Saturday', 'Tuesday', 'Saturday', 'Friday', 'Sunday', 'Saturday'] 8 <class 'list'> 140035922917056\n",
      "['Wednesday', 'Thrusday', 'Saturday', 'Tuesday', 'Saturday', 'Friday', 'Sunday', 'Saturday'] 8 <class 'list'> 140035922973440\n",
      "['Monday', 'Thrusday', 'Saturday', 'Tuesday', 'Saturday', 'Friday', 'Sunday', 'Saturday'] 8 <class 'list'> 140035922917056\n"
     ]
    }
   ],
   "source": [
    "list1=['Monday','Thrusday','Saturday','Tuesday','Saturday','Friday','Sunday','Saturday']\n",
    "print(list1,len(list1),type(list1),id(list1))\n",
    "list2 = list1.copy()\n",
    "print(list2,len(list2),type(list2),id(list2))\n",
    "\n",
    "list1[0]='Wednesday'\n",
    "print(list1,len(list1),type(list1),id(list1))\n",
    "print(list2,len(list2),type(list2),id(list2))"
   ]
  },
  {
   "cell_type": "code",
   "execution_count": 22,
   "id": "4d8aec9a-dc96-4d6a-8dcb-707d0ded7927",
   "metadata": {},
   "outputs": [
    {
     "name": "stdout",
     "output_type": "stream",
     "text": [
      "['Monday', 'Thrusday', 'Saturday', 'Tuesday', 'Saturday', 'Friday', 'Sunday', 'Saturday'] 8 <class 'list'> 140035909761408\n",
      "True\n",
      "['Monday', 'Thrusday', False, 'Tuesday', 'Saturday', 'Friday', 'Sunday', 'Saturday'] 8 <class 'list'> 140035909691392\n",
      "False\n"
     ]
    }
   ],
   "source": [
    "list1=['Monday','Thrusday','Saturday','Tuesday','Saturday','Friday','Sunday','Saturday']\n",
    "print(list1,len(list1),type(list1),id(list1))\n",
    "print(all(list1))\n",
    "\n",
    "list1=['Monday','Thrusday',False,'Tuesday','Saturday','Friday','Sunday','Saturday']\n",
    "print(list1,len(list1),type(list1),id(list1))\n",
    "print(all(list1))"
   ]
  },
  {
   "cell_type": "code",
   "execution_count": 25,
   "id": "048ce6f5-397c-4a4a-9723-7cc66fdd7ef5",
   "metadata": {},
   "outputs": [
    {
     "name": "stdout",
     "output_type": "stream",
     "text": [
      "['Monday', 'Thrusday', 'Saturday', 'Tuesday', 'Saturday', 'Friday', 'Sunday', 'Saturday'] 8 <class 'list'> 140036403319424\n",
      "True\n",
      "['Monday', 'Thrusday', False, 'Tuesday', 'Saturday', 'Friday', 'Sunday', 'Saturday'] 8 <class 'list'> 140035909695552\n",
      "True\n",
      "False\n"
     ]
    }
   ],
   "source": [
    "list1=['Monday','Thrusday','Saturday','Tuesday','Saturday','Friday','Sunday','Saturday']\n",
    "print(list1,len(list1),type(list1),id(list1))\n",
    "print(any(list1))  #any of the item is True\n",
    "list1=['Monday','Thrusday',False,'Tuesday','Saturday','Friday','Sunday','Saturday']\n",
    "print(list1,len(list1),type(list1),id(list1))\n",
    "print(any(list1))\n",
    "\n",
    "list1=[False , False , False]\n",
    "print(any(list1))"
   ]
  },
  {
   "cell_type": "code",
   "execution_count": 26,
   "id": "62fb9030-5f06-4bb1-8355-0ebb1cefdac8",
   "metadata": {},
   "outputs": [
    {
     "name": "stdout",
     "output_type": "stream",
     "text": [
      "['Monday', 'Thursday', 'Saturday', 'Tuesday', 'Friday', 'Sunday'] 6 <class 'list'> 140035922917760\n",
      "['Monday', 'Thursday', 'Saturday', 'Wednesday', 'Friday', 'Sunday'] 6 <class 'list'> 140035922917760\n"
     ]
    }
   ],
   "source": [
    "def myfunct(mylist):\n",
    "    mylist[3]='Wednesday'\n",
    "\n",
    "list1=['Monday','Thursday','Saturday','Tuesday','Friday','Sunday']\n",
    "print(list1,len(list1),type(list1),id(list1))\n",
    "myfunct(list1)\n",
    "print(list1,len(list1),type(list1),id(list1))    "
   ]
  },
  {
   "cell_type": "markdown",
   "id": "8fd88757-360d-46e6-9159-1e42f48c02e3",
   "metadata": {},
   "source": [
    "# Dealing with the tuple processing"
   ]
  },
  {
   "cell_type": "markdown",
   "id": "9e132940-5392-47b4-9ce7-9f7ed89c1681",
   "metadata": {},
   "source": [
    "Tuple is a collection of data items of same or different data type encrypted with in first bracket.\n",
    "Tuple items are immutables as INSERT , DELETE and UPDATE opertaions can not be carried out on them"
   ]
  },
  {
   "cell_type": "code",
   "execution_count": 27,
   "id": "ca2de98b-9cce-474d-a55c-e3f407fec50a",
   "metadata": {},
   "outputs": [
    {
     "name": "stdout",
     "output_type": "stream",
     "text": [
      "(100, 500, 200, 400, 300) 5 <class 'tuple'> 140035909979648\n",
      "500 100\n"
     ]
    }
   ],
   "source": [
    "tuple1 = (100,500,200,400,300)\n",
    "print(tuple1 , len(tuple1),type(tuple1),id(tuple1))\n",
    "print(max(tuple1) , min(tuple1))"
   ]
  },
  {
   "cell_type": "code",
   "execution_count": 28,
   "id": "e6901fd0-3b1e-4900-aa06-71c4c8625e2c",
   "metadata": {},
   "outputs": [
    {
     "name": "stdout",
     "output_type": "stream",
     "text": [
      "Friday Friday Thursday Thursday\n"
     ]
    }
   ],
   "source": [
    "tuple1=('Sunday','Tuesady','Friday','Saturday','Thursday')\n",
    "print(tuple1[2],tuple1[-3],tuple1[4],tuple1[-1])"
   ]
  },
  {
   "cell_type": "code",
   "execution_count": 29,
   "id": "26315469-818c-4f82-ab53-578b3c7ec1f9",
   "metadata": {},
   "outputs": [
    {
     "name": "stdout",
     "output_type": "stream",
     "text": [
      "('Sunday', 'Friday', 'Thursday') ('Tuesady', 'Saturday') ('Thursday', 'Saturday', 'Friday', 'Tuesady', 'Sunday')\n"
     ]
    }
   ],
   "source": [
    "tuple1=('Sunday','Tuesady','Friday','Saturday','Thursday')\n",
    "print(tuple1[0::2],tuple1[1::2],tuple1[::-1])"
   ]
  },
  {
   "cell_type": "code",
   "execution_count": 30,
   "id": "d75926be-558d-4040-bca7-e976ade391b8",
   "metadata": {},
   "outputs": [
    {
     "name": "stdout",
     "output_type": "stream",
     "text": [
      "tur tur\n"
     ]
    }
   ],
   "source": [
    "print(tuple1[3][2:5],tuple1[-2][-6:-3])"
   ]
  },
  {
   "cell_type": "code",
   "execution_count": 32,
   "id": "d0210d9f-04d1-427c-9026-52a6677e0401",
   "metadata": {},
   "outputs": [
    {
     "name": "stdout",
     "output_type": "stream",
     "text": [
      "(100, 500, 200, 400, 300) 5 <class 'tuple'> 140035909853376\n"
     ]
    },
    {
     "ename": "NameError",
     "evalue": "name 'tuple1' is not defined",
     "output_type": "error",
     "traceback": [
      "\u001b[0;31m---------------------------------------------------------------------------\u001b[0m",
      "\u001b[0;31mNameError\u001b[0m                                 Traceback (most recent call last)",
      "Cell \u001b[0;32mIn[32], line 4\u001b[0m\n\u001b[1;32m      2\u001b[0m \u001b[38;5;28mprint\u001b[39m(tuple1 , \u001b[38;5;28mlen\u001b[39m(tuple1),\u001b[38;5;28mtype\u001b[39m(tuple1),\u001b[38;5;28mid\u001b[39m(tuple1))\n\u001b[1;32m      3\u001b[0m \u001b[38;5;28;01mdel\u001b[39;00m tuple1   \u001b[38;5;66;03m# Delete the tuple\u001b[39;00m\n\u001b[0;32m----> 4\u001b[0m \u001b[38;5;28mprint\u001b[39m(\u001b[43mtuple1\u001b[49m , \u001b[38;5;28mlen\u001b[39m(tuple1),\u001b[38;5;28mtype\u001b[39m(tuple1),\u001b[38;5;28mid\u001b[39m(tuple1))   \u001b[38;5;66;03m# Error because tuple is deleted\u001b[39;00m\n",
      "\u001b[0;31mNameError\u001b[0m: name 'tuple1' is not defined"
     ]
    }
   ],
   "source": [
    "tuple1 = (100,500,200,400,300)\n",
    "print(tuple1 , len(tuple1),type(tuple1),id(tuple1))\n",
    "del tuple1   # Delete the tuple\n",
    "print(tuple1 , len(tuple1),type(tuple1),id(tuple1))   # Error because tuple is deleted"
   ]
  }
 ],
 "metadata": {
  "kernelspec": {
   "display_name": "Python 3 (ipykernel)",
   "language": "python",
   "name": "python3"
  },
  "language_info": {
   "codemirror_mode": {
    "name": "ipython",
    "version": 3
   },
   "file_extension": ".py",
   "mimetype": "text/x-python",
   "name": "python",
   "nbconvert_exporter": "python",
   "pygments_lexer": "ipython3",
   "version": "3.13.2"
  }
 },
 "nbformat": 4,
 "nbformat_minor": 5
}
