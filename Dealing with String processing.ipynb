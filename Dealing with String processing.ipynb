{
 "cells": [
  {
   "cell_type": "markdown",
   "id": "887c4107-8ccf-43b1-bd96-5675f6fde96c",
   "metadata": {
    "editable": true,
    "slideshow": {
     "slide_type": ""
    },
    "tags": []
   },
   "source": [
    "## Dealing with String processing"
   ]
  },
  {
   "cell_type": "markdown",
   "id": "0500b755-130e-4b93-8e84-d5e7774f1dac",
   "metadata": {},
   "source": [
    "String is a collection of alphanumerical and special charcaters.String is immutable as insert , delete and update operations can not be carried out on a given string"
   ]
  },
  {
   "cell_type": "code",
   "execution_count": 1,
   "id": "fc857777-ecf2-4e36-a3a2-cd612989f2f2",
   "metadata": {},
   "outputs": [
    {
     "name": "stdout",
     "output_type": "stream",
     "text": [
      "10 University <class 'str'> 140243836191088\n",
      "v s t t n y\n",
      "niver niver niver niver\n",
      "Univer Univer Univer Univer\n",
      "sity sity\n",
      "Uiest nvriy ytisrevinU\n",
      "ver ver versity t n y\n"
     ]
    }
   ],
   "source": [
    "mystr = 'University'\n",
    "print(len(mystr), mystr , type(mystr),id(mystr))\n",
    "print(mystr[3],mystr[-4],mystr[8],mystr[-2],mystr[-9],mystr[-1])\n",
    "print(mystr[1:6],mystr[-9:-4],mystr[1:-4],mystr[-9:6])\n",
    "print(mystr[0:6],mystr[:6],mystr[-10:-4],mystr[:-4])\n",
    "print(mystr[6:],mystr[-4:])\n",
    "print(mystr[0::2],mystr[1::2],mystr[::-1])\n",
    "print(mystr[3:6],mystr[-7:-4],mystr[3:],mystr[-2],mystr[-9],mystr[-1])"
   ]
  },
  {
   "cell_type": "code",
   "execution_count": 2,
   "id": "bb27105e-a637-4eaa-8df5-a48d52fdd12c",
   "metadata": {},
   "outputs": [
    {
     "name": "stdout",
     "output_type": "stream",
     "text": [
      "ytisrevinU\n"
     ]
    }
   ],
   "source": [
    "print(mystr[::-1])"
   ]
  },
  {
   "cell_type": "code",
   "execution_count": 3,
   "id": "f3983ace-7a52-419e-bf1e-bf38b117a5b8",
   "metadata": {},
   "outputs": [
    {
     "name": "stdout",
     "output_type": "stream",
     "text": [
      "tEcHnO InDia UniverSiTY 23 <class 'str'> 140243836204720\n",
      "TECHNO INDIA UNIVERSITY\n",
      "techno india university\n",
      "TeChNo iNdIA uNIVERsIty\n",
      "Techno india university\n",
      "Techno India University\n"
     ]
    }
   ],
   "source": [
    "mystr = \"tEcHnO InDia UniverSiTY\"\n",
    "print(mystr , len(mystr),type(mystr),id(mystr))\n",
    "print(mystr.upper())\n",
    "print(mystr.lower())\n",
    "print(mystr.swapcase())\n",
    "print(mystr.capitalize())\n",
    "print(mystr.title())"
   ]
  },
  {
   "cell_type": "code",
   "execution_count": 5,
   "id": "1e87b76c-897c-4b2f-bd40-6c5488d295e2",
   "metadata": {},
   "outputs": [
    {
     "name": "stdout",
     "output_type": "stream",
     "text": [
      "abcd <class 'str'> True True False\n",
      "1234 <class 'str'> False True True\n",
      "12234abcd <class 'str'> False True False\n",
      "1234@asad <class 'str'> False False False\n"
     ]
    }
   ],
   "source": [
    "mystr = \"abcd\"\n",
    "print(mystr , type(mystr), mystr.isalpha(), mystr.isalnum() , mystr.isdigit())\n",
    "mystr = \"1234\"\n",
    "print(mystr , type(mystr), mystr.isalpha(), mystr.isalnum() , mystr.isdigit() )\n",
    "mystr = \"12234abcd\"\n",
    "print(mystr , type(mystr), mystr.isalpha(), mystr.isalnum() , mystr.isdigit() )\n",
    "mystr = \"1234@asad\"\n",
    "print(mystr , type(mystr), mystr.isalpha(), mystr.isalnum() , mystr.isdigit())"
   ]
  },
  {
   "cell_type": "code",
   "execution_count": 2,
   "id": "d8669b99-7b5b-464c-8f44-b24837a79b4f",
   "metadata": {},
   "outputs": [
    {
     "name": "stdout",
     "output_type": "stream",
     "text": [
      "charity begins at home  <class 'str'> 23 139875930794928\n",
      "True\n",
      "False False True False 8 20\n",
      "False False True True\n"
     ]
    }
   ],
   "source": [
    "mystr = \"charity begins at home \"\n",
    "print(mystr , type(mystr), len(mystr),id(mystr))\n",
    "print(mystr.startswith(\"charity\"))\n",
    "print(mystr.startswith(\"Charity\") , mystr.startswith(\"begi\"), mystr.startswith(\"begi\" , 8) ,  mystr.startswith(\"begi\"),8 ,20)\n",
    "print(mystr.endswith(\"home\"),mystr.endswith(\"at\"),mystr.endswith(\"at\",0,17), mystr.endswith(\"at\",15,17))"
   ]
  },
  {
   "cell_type": "code",
   "execution_count": 3,
   "id": "94605f23-5011-4379-beeb-ea84a099e0d6",
   "metadata": {},
   "outputs": [
    {
     "name": "stdout",
     "output_type": "stream",
     "text": [
      "charity begins at home \n",
      " 22 <class 'str'> 139875930798384\n"
     ]
    }
   ],
   "source": [
    "mystr = \"charity begins at home\"\n",
    "print(mystr , \"\\n\",len(mystr),type(mystr),id(mystr))"
   ]
  }
 ],
 "metadata": {
  "kernelspec": {
   "display_name": "Python 3 (ipykernel)",
   "language": "python",
   "name": "python3"
  },
  "language_info": {
   "codemirror_mode": {
    "name": "ipython",
    "version": 3
   },
   "file_extension": ".py",
   "mimetype": "text/x-python",
   "name": "python",
   "nbconvert_exporter": "python",
   "pygments_lexer": "ipython3",
   "version": "3.13.1"
  }
 },
 "nbformat": 4,
 "nbformat_minor": 5
}
