{
 "cells": [
  {
   "cell_type": "markdown",
   "id": "ed9b8087-5489-457c-8ffd-ea27aa447d6c",
   "metadata": {},
   "source": [
    "## Python Functions"
   ]
  },
  {
   "cell_type": "markdown",
   "id": "2fa12610-50fb-4922-b921-e35456e4d0c6",
   "metadata": {},
   "source": [
    "Function is block of code that perform specific operation or task when called upon."
   ]
  },
  {
   "cell_type": "code",
   "execution_count": 1,
   "id": "9556bc99-b14f-4e5a-b093-3917d484dac9",
   "metadata": {},
   "outputs": [
    {
     "name": "stdout",
     "output_type": "stream",
     "text": [
      "Welcome.... Everyone\n",
      "Welcome.... Everyone\n",
      "Welcome.... Everyone\n",
      "<class 'function'> 140070681153024\n"
     ]
    }
   ],
   "source": [
    "def func():\n",
    "    print(\"Welcome....\",end =\" \")\n",
    "    print(\"Everyone\")\n",
    "\n",
    "func()\n",
    "func()\n",
    "func()\n",
    "print(type(func),id(func))    "
   ]
  },
  {
   "cell_type": "code",
   "execution_count": 2,
   "id": "80beef42-e1cf-4ed8-88db-579a58544ae8",
   "metadata": {},
   "outputs": [
    {
     "name": "stdout",
     "output_type": "stream",
     "text": [
      "Asad RahmaniAsad Rahmani\n",
      "10\n"
     ]
    }
   ],
   "source": [
    "def func2(msg , times):\n",
    "    print(msg * times)\n",
    "\n",
    "func2(\"Asad Rahmani\",2)\n",
    "func2(2,5)    "
   ]
  },
  {
   "cell_type": "code",
   "execution_count": null,
   "id": "19c502c0-5e12-4528-9ed6-6a24532383e2",
   "metadata": {},
   "outputs": [],
   "source": []
  }
 ],
 "metadata": {
  "kernelspec": {
   "display_name": "Python 3 (ipykernel)",
   "language": "python",
   "name": "python3"
  },
  "language_info": {
   "codemirror_mode": {
    "name": "ipython",
    "version": 3
   },
   "file_extension": ".py",
   "mimetype": "text/x-python",
   "name": "python",
   "nbconvert_exporter": "python",
   "pygments_lexer": "ipython3",
   "version": "3.13.1"
  }
 },
 "nbformat": 4,
 "nbformat_minor": 5
}
