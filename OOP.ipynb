{
 "cells": [
  {
   "cell_type": "markdown",
   "id": "2ee48b61-a187-4334-b388-f4f3c18d15c9",
   "metadata": {},
   "source": [
    "## Object Oriented Programming"
   ]
  },
  {
   "cell_type": "markdown",
   "id": "408a455b-b215-4400-8c6e-ceda01b3f548",
   "metadata": {},
   "source": [
    "Procedural languages lack in encapsulation , difficult to manage when code size is >= 10 KLOC. Here , variables are unprotected , no automatic memory management by deleting dereference variables"
   ]
  },
  {
   "cell_type": "code",
   "execution_count": 1,
   "id": "67a541e4-3da6-4316-9309-c997d31d09dd",
   "metadata": {},
   "outputs": [
    {
     "name": "stdout",
     "output_type": "stream",
     "text": [
      "<__main__.MyClass object at 0x7f15b8451be0> <class '__main__.MyClass'>\n"
     ]
    }
   ],
   "source": [
    "class MyClass:\n",
    "    pass\n",
    "ob1 = MyClass()\n",
    "print(ob1 , type(ob1))"
   ]
  },
  {
   "cell_type": "code",
   "execution_count": 2,
   "id": "22410e6f-6e50-4b35-bf48-2045c282310b",
   "metadata": {},
   "outputs": [
    {
     "name": "stdout",
     "output_type": "stream",
     "text": [
      "This is a document string.\n",
      "This is a multi-line text...\n",
      "This is a document string.\n",
      "This is a multi-line text...\n"
     ]
    }
   ],
   "source": [
    "class MyClass:\n",
    "    ''' This is a document string.\n",
    "        This is a multi-line text...'''\n",
    "ob1 = MyClass()\n",
    "print(ob1.__doc__)\n",
    "print(MyClass.__doc__)"
   ]
  },
  {
   "cell_type": "markdown",
   "id": "adfd8d6b-2612-477f-a0f0-7c59c3fc6c4e",
   "metadata": {},
   "source": [
    "\"self\" is used to access and manipulate the instance variables and methods within a class.Without \"self\",it would be impossible to differentiate between instance variables and class variables or methods"
   ]
  },
  {
   "cell_type": "code",
   "execution_count": 3,
   "id": "193cdbfe-33aa-4e33-8b66-80bbc1421d5c",
   "metadata": {},
   "outputs": [
    {
     "name": "stdout",
     "output_type": "stream",
     "text": [
      "Executing the constructor method....\n",
      "self: <__main__.MyClass object at 0x7f15b8451a90> <class '__main__.MyClass'>\n",
      "This is a document string...\n",
      "This is a document string...\n",
      "Executing the display method.....\n",
      "Class  variables Values are 100 and 200...\n",
      "Class variable values are 100 and 200.,....\n",
      "Instance variable values ae 111 and 222....\n"
     ]
    }
   ],
   "source": [
    "class MyClass:\n",
    "    \"\"\"This is a document string...\"\"\"\n",
    "    class_var1 = 100\n",
    "    class_var2 = 200\n",
    "    def __init__(self,data1,data2):\n",
    "        print(\"Executing the constructor method....\")\n",
    "        print(\"self:\",self,type(self))\n",
    "        self.inst_var1 = data1\n",
    "        self.inst_var2 = data2\n",
    "\n",
    "    def display(self):\n",
    "        print(\"Executing the display method.....\")\n",
    "        print(f\"Class  variables Values are {MyClass.class_var1} and {MyClass.class_var2}...\")\n",
    "        print(f\"Class variable values are {self.class_var1} and {self.class_var2}.,....\")\n",
    "        print(f\"Instance variable values ae {self.inst_var1} and {self.inst_var2}....\")\n",
    "\n",
    "ob1 = MyClass(111,222)  # Positional arguments\n",
    "print(ob1.__doc__)\n",
    "print(MyClass.__doc__)\n",
    "ob1.display()        "
   ]
  }
 ],
 "metadata": {
  "kernelspec": {
   "display_name": "Python 3 (ipykernel)",
   "language": "python",
   "name": "python3"
  },
  "language_info": {
   "codemirror_mode": {
    "name": "ipython",
    "version": 3
   },
   "file_extension": ".py",
   "mimetype": "text/x-python",
   "name": "python",
   "nbconvert_exporter": "python",
   "pygments_lexer": "ipython3",
   "version": "3.13.2"
  }
 },
 "nbformat": 4,
 "nbformat_minor": 5
}
