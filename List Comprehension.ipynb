{
 "cells": [
  {
   "cell_type": "markdown",
   "id": "a8026fda-4dd1-4135-8204-6a79a5f92a92",
   "metadata": {},
   "source": [
    "### List Comprehension"
   ]
  },
  {
   "cell_type": "markdown",
   "id": "c1cf9477-8e71-4b59-b403-3d08556d9680",
   "metadata": {},
   "source": [
    "A Python list comprehension consists of brackets containing the expression ,which is executed for each element along with the for loop to iterate over each element in the Python list"
   ]
  },
  {
   "cell_type": "code",
   "execution_count": 1,
   "id": "dee2f804-3666-4d55-a9b2-7f91a83fa056",
   "metadata": {},
   "outputs": [
    {
     "name": "stdout",
     "output_type": "stream",
     "text": [
      "[40, 42, 44]\n"
     ]
    }
   ],
   "source": [
    "n = [20 , 21,22]\n",
    "n2=[]\n",
    "for i in n:\n",
    "    #print(i*2)\n",
    "    n2.append(i*2)\n",
    "print(n2)    "
   ]
  },
  {
   "cell_type": "code",
   "execution_count": 3,
   "id": "ae251d58-c5af-4d4c-a593-4158102a2d42",
   "metadata": {},
   "outputs": [
    {
     "name": "stdout",
     "output_type": "stream",
     "text": [
      "[40, 42, 44]\n"
     ]
    }
   ],
   "source": [
    "n = [20,21,22]\n",
    "double = [i*2 for i in n]\n",
    "print(double)"
   ]
  },
  {
   "cell_type": "code",
   "execution_count": 4,
   "id": "6513219a-fb22-40fd-9e4c-e6ce2f6a4ca0",
   "metadata": {},
   "outputs": [
    {
     "name": "stdout",
     "output_type": "stream",
     "text": [
      "[1, 4, 9, 16, 25]\n"
     ]
    }
   ],
   "source": [
    "numbers = [1,2,3,4,5]\n",
    "square = [i**2 for i in numbers]\n",
    "print(square)"
   ]
  },
  {
   "cell_type": "code",
   "execution_count": 6,
   "id": "3340f36f-ad28-41f4-bfed-978e5f351808",
   "metadata": {},
   "outputs": [
    {
     "name": "stdout",
     "output_type": "stream",
     "text": [
      "[0, 2, 4, 6, 8, 10]\n"
     ]
    }
   ],
   "source": [
    "# Print all even number from 1 to 10 using List Comprehension\n",
    "list1  = [i for i in range(11) if i%2==0]\n",
    "print(list1)"
   ]
  },
  {
   "cell_type": "code",
   "execution_count": 7,
   "id": "fba91a23-6ca2-43fe-a6fe-f5be222b6444",
   "metadata": {},
   "outputs": [
    {
     "name": "stdout",
     "output_type": "stream",
     "text": [
      "[[0, 1, 2], [0, 1, 2], [0, 1, 2]]\n"
     ]
    }
   ],
   "source": [
    "\"\"\"\n",
    "[\n",
    "    [0,1,2],\n",
    "    [0,1,2],\n",
    "    [0,1,2],\n",
    "]\n",
    "\"\"\"\n",
    "\n",
    "matrix = [[j for j in range(3)] for i in range(3)]\n",
    "print(matrix)"
   ]
  },
  {
   "cell_type": "code",
   "execution_count": 8,
   "id": "299c3820-99f1-4729-8770-ab0c1f00250c",
   "metadata": {},
   "outputs": [
    {
     "name": "stdout",
     "output_type": "stream",
     "text": [
      "[[0, 1, 2],\n",
      " [0, 1, 2],\n",
      " [0, 1, 2]]\n"
     ]
    }
   ],
   "source": [
    "import pprint\n",
    "pp = pprint.PrettyPrinter(width=20)\n",
    "pp.pprint(matrix)"
   ]
  },
  {
   "cell_type": "markdown",
   "id": "ba811c9e-1bf9-4a73-9887-7e3ae64b750d",
   "metadata": {},
   "source": [
    "### List Comprehension vs for loop"
   ]
  },
  {
   "cell_type": "code",
   "execution_count": 9,
   "id": "d836125f-4357-414a-8d59-35cb1176fb8e",
   "metadata": {},
   "outputs": [
    {
     "name": "stdout",
     "output_type": "stream",
     "text": [
      "['M', 'o', 'h', 'a', 'm', 'm', 'a', 'd', ' ', 'A', 's', 'a', 'd', ' ', 'R', 'a', 'h', 'm', 'a', 'n', 'i']\n"
     ]
    }
   ],
   "source": [
    "# Using loop\n",
    "lst =[]\n",
    "for char in 'Mohammad Asad Rahmani':\n",
    "    lst.append(char)\n",
    "print(lst)    "
   ]
  },
  {
   "cell_type": "code",
   "execution_count": 10,
   "id": "6535fb1f-d6b5-4d87-86bb-327db08b38ab",
   "metadata": {},
   "outputs": [
    {
     "name": "stdout",
     "output_type": "stream",
     "text": [
      "['M', 'o', 'h', 'a', 'm', 'm', 'a', 'd', ' ', 'A', 's', 'a', 'd', ' ', 'R', 'a', 'h', 'm', 'a', 'n', 'i']\n"
     ]
    }
   ],
   "source": [
    "# Using list comprehension\n",
    "lst = [char for char in 'Mohammad Asad Rahmani']\n",
    "print(lst)"
   ]
  },
  {
   "cell_type": "code",
   "execution_count": 12,
   "id": "21507a05-f8ad-4ae0-92e4-9ea564cbfe2f",
   "metadata": {},
   "outputs": [
    {
     "name": "stdout",
     "output_type": "stream",
     "text": [
      "[10, 20, 30, 40, 50]\n"
     ]
    }
   ],
   "source": [
    "# Using Lambda function\n",
    "# [1,2,3,4,5] --> [10,20,30,40,50]\n",
    "number = list(map(lambda x:x*10 , [x for x in range(1,6)]))\n",
    "print(number)"
   ]
  }
 ],
 "metadata": {
  "kernelspec": {
   "display_name": "Python 3 (ipykernel)",
   "language": "python",
   "name": "python3"
  },
  "language_info": {
   "codemirror_mode": {
    "name": "ipython",
    "version": 3
   },
   "file_extension": ".py",
   "mimetype": "text/x-python",
   "name": "python",
   "nbconvert_exporter": "python",
   "pygments_lexer": "ipython3",
   "version": "3.13.2"
  }
 },
 "nbformat": 4,
 "nbformat_minor": 5
}
