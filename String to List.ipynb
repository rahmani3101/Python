{
 "cells": [
  {
   "cell_type": "code",
   "execution_count": 11,
   "id": "297dd81e-7b1b-446b-b9b0-7f67acb1f2c6",
   "metadata": {},
   "outputs": [
    {
     "name": "stdout",
     "output_type": "stream",
     "text": [
      "charity begins at home \n",
      " 22 <class 'str'> 140192379662832\n",
      "8\n",
      "15\n",
      "-1\n",
      "18\n"
     ]
    }
   ],
   "source": [
    "mystr = \"charity begins at home\"\n",
    "print(mystr , \"\\n\",len(mystr),type(mystr),id(mystr))\n",
    "print(mystr.find(\"begin\"))\n",
    "print(mystr.find(\"at\"))\n",
    "print(mystr.find(\"school\"))\n",
    "print(mystr.find(\"home\"))"
   ]
  },
  {
   "cell_type": "code",
   "execution_count": 12,
   "id": "423f0c14-e01d-4818-ae8f-b60f3f6d164a",
   "metadata": {},
   "outputs": [
    {
     "name": "stdout",
     "output_type": "stream",
     "text": [
      "8\n",
      "15\n",
      "18\n"
     ]
    }
   ],
   "source": [
    "print(mystr.index(\"begins\"))\n",
    "print(mystr.index(\"at\"))\n",
    "\n",
    "# print(mystr.index(\"school\"))  \\\\ error :substring not found\n",
    "print(mystr.index(\"home\"))"
   ]
  },
  {
   "cell_type": "code",
   "execution_count": 14,
   "id": "363b5dae-26ae-43fc-93d6-b4f8d439a2a8",
   "metadata": {},
   "outputs": [
    {
     "name": "stdout",
     "output_type": "stream",
     "text": [
      "8\n",
      "15\n",
      "Unsuccessful search....\n",
      "Error Message  substring not found\n",
      "18\n"
     ]
    }
   ],
   "source": [
    "print(mystr.index(\"begins\"))\n",
    "print(mystr.index(\"at\"))\n",
    "try:\n",
    "    print(mystr.index(\"school\"))  \n",
    "except ValueError as v:\n",
    "    print(\"Unsuccessful search....\")\n",
    "    print(\"Error Message \" , v)\n",
    "print(mystr.index(\"home\"))"
   ]
  },
  {
   "cell_type": "code",
   "execution_count": 19,
   "id": "989b36c0-ea60-4438-8602-e53853ca99c8",
   "metadata": {},
   "outputs": [
    {
     "name": "stdout",
     "output_type": "stream",
     "text": [
      "mississippi 11 <class 'str'> 140192377830320\n",
      "4\n",
      "4\n",
      "2\n",
      "0\n"
     ]
    }
   ],
   "source": [
    "mystr = \"mississippi\"\n",
    "print(mystr , len(mystr) , type(mystr),id(mystr))\n",
    "print(mystr.count(\"i\"))\n",
    "print(mystr.count(\"s\"))\n",
    "print(mystr.count(\"ss\"))\n",
    "print(mystr.count(\"t\"))"
   ]
  },
  {
   "cell_type": "code",
   "execution_count": 20,
   "id": "e75a291f-a5a3-4f6e-86bb-75e4e047a548",
   "metadata": {},
   "outputs": [
    {
     "name": "stdout",
     "output_type": "stream",
     "text": [
      "good morning 12 <class 'str'> 140192379680432\n",
      "good night 10 <class 'str'> 140192922655152\n"
     ]
    }
   ],
   "source": [
    "mystr = \"good morning\"\n",
    "print(mystr , len(mystr),type(mystr), id (mystr))\n",
    "mystr = mystr.replace(\"morning\",\"night\")\n",
    "print(mystr , len(mystr),type(mystr), id (mystr))"
   ]
  },
  {
   "cell_type": "code",
   "execution_count": 25,
   "id": "5b47ee29-8077-494a-8f4e-f30d37d32848",
   "metadata": {},
   "outputs": [
    {
     "name": "stdout",
     "output_type": "stream",
     "text": [
      "      good   morning             32 <class 'str'> 140192378125840\n",
      "good   morning 14 <class 'str'> 140192379777904\n"
     ]
    }
   ],
   "source": [
    "mystr = \"      good   morning            \"\n",
    "print(mystr , len(mystr),type(mystr), id (mystr))\n",
    "mystr = mystr.strip()\n",
    "print(mystr , len(mystr),type(mystr), id (mystr))"
   ]
  },
  {
   "cell_type": "code",
   "execution_count": 26,
   "id": "4f6ef46b-14c5-40f9-8b8b-a6248dccc99b",
   "metadata": {},
   "outputs": [
    {
     "name": "stdout",
     "output_type": "stream",
     "text": [
      "      good   morning             32 <class 'str'> 140192378176416\n",
      "good   morning             26 <class 'str'> 140192378176656\n"
     ]
    }
   ],
   "source": [
    "mystr = \"      good   morning            \"\n",
    "print(mystr , len(mystr),type(mystr), id (mystr))\n",
    "mystr = mystr.lstrip()\n",
    "print(mystr , len(mystr),type(mystr), id (mystr))"
   ]
  },
  {
   "cell_type": "code",
   "execution_count": 27,
   "id": "ef3186f3-b443-4b91-947c-11962a996012",
   "metadata": {},
   "outputs": [
    {
     "name": "stdout",
     "output_type": "stream",
     "text": [
      "      good   morning             32 <class 'str'> 140192378177696\n",
      "      good   morning 20 <class 'str'> 140192378203952\n"
     ]
    }
   ],
   "source": [
    "mystr = \"      good   morning            \"\n",
    "print(mystr , len(mystr),type(mystr), id (mystr))\n",
    "mystr = mystr.rstrip()\n",
    "print(mystr , len(mystr),type(mystr), id (mystr))"
   ]
  },
  {
   "cell_type": "code",
   "execution_count": 32,
   "id": "7c90c19a-c5a8-473c-8a86-83b5c8b724f1",
   "metadata": {},
   "outputs": [
    {
     "name": "stdout",
     "output_type": "stream",
     "text": [
      "@@@@@@@@@@@@good @ morning###@@@@@#@#@#@#@#@#@# 47 <class 'str'> 140192378260432\n",
      "good @ morning 14 <class 'str'> 140192378211760\n"
     ]
    }
   ],
   "source": [
    "mystr = \"@@@@@@@@@@@@good @ morning###@@@@@#@#@#@#@#@#@#\"\n",
    "print(mystr , len(mystr),type(mystr), id (mystr))\n",
    "mystr = mystr.strip(\"#@\")\n",
    "print(mystr , len(mystr),type(mystr), id (mystr))"
   ]
  },
  {
   "cell_type": "code",
   "execution_count": 33,
   "id": "81994e1a-f106-49b4-95f7-9710f3678e0f",
   "metadata": {},
   "outputs": [
    {
     "name": "stdout",
     "output_type": "stream",
     "text": [
      "@@@@@@@@@@@@good @ morning###@@@@@#@#@#@#@#@#@# 47 <class 'str'> 140192378259760\n",
      "@@@@@@@@@@@@good @ morning 26 <class 'str'> 140192378186656\n"
     ]
    }
   ],
   "source": [
    "mystr = \"@@@@@@@@@@@@good @ morning###@@@@@#@#@#@#@#@#@#\"\n",
    "print(mystr , len(mystr),type(mystr), id (mystr))\n",
    "mystr = mystr.rstrip(\"#@\")\n",
    "print(mystr , len(mystr),type(mystr), id (mystr))"
   ]
  },
  {
   "cell_type": "code",
   "execution_count": 35,
   "id": "866c6f09-f3b4-42f0-bd20-9e3c7209aa1e",
   "metadata": {},
   "outputs": [
    {
     "name": "stdout",
     "output_type": "stream",
     "text": [
      "@@@@@@@@@@@@good @ morning###@@@@@#@#@#@#@#@#@# 47 <class 'str'> 140192378259760\n",
      "good @ morning###@@@@@#@#@#@#@#@#@# 35 <class 'str'> 140192378189056\n"
     ]
    }
   ],
   "source": [
    "mystr = \"@@@@@@@@@@@@good @ morning###@@@@@#@#@#@#@#@#@#\"\n",
    "print(mystr , len(mystr),type(mystr), id (mystr))\n",
    "mystr = mystr.lstrip(\"#@\")\n",
    "print(mystr , len(mystr),type(mystr), id (mystr))"
   ]
  },
  {
   "cell_type": "markdown",
   "id": "c6ae1071-893c-401e-8906-2d8f5ce2744d",
   "metadata": {},
   "source": [
    "### Converting String into List"
   ]
  },
  {
   "cell_type": "code",
   "execution_count": 38,
   "id": "a10ef13f-5999-4889-b2c1-d2625de1e2ed",
   "metadata": {},
   "outputs": [
    {
     "name": "stdout",
     "output_type": "stream",
     "text": [
      "charity begins at home \n",
      " 22 <class 'str'> 140192378213104\n",
      "['charity', 'begins', 'at', 'home'] \n",
      " <class 'list'>\n"
     ]
    }
   ],
   "source": [
    "mystr = \"charity begins at home\"\n",
    "print(mystr , \"\\n\",len(mystr),type(mystr),id(mystr))\n",
    "result = mystr.split()\n",
    "print(result , \"\\n\",type(result))"
   ]
  },
  {
   "cell_type": "code",
   "execution_count": 39,
   "id": "0d2a1834-4e0b-423e-9ec6-d6f9b9f7752f",
   "metadata": {},
   "outputs": [
    {
     "name": "stdout",
     "output_type": "stream",
     "text": [
      "['char', 'ty beg', 'ns at home'] \n",
      " <class 'list'>\n"
     ]
    }
   ],
   "source": [
    "result = mystr.split('i')\n",
    "print(result , \"\\n\",type(result))"
   ]
  },
  {
   "cell_type": "code",
   "execution_count": 40,
   "id": "c6df4e1e-70b8-4db4-a4cc-29de0b783910",
   "metadata": {},
   "outputs": [
    {
     "name": "stdout",
     "output_type": "stream",
     "text": [
      "['charity begins at home'] \n",
      " <class 'list'>\n"
     ]
    }
   ],
   "source": [
    "result = mystr.split('x')\n",
    "print(result , \"\\n\",type(result))"
   ]
  },
  {
   "cell_type": "markdown",
   "id": "4a183702-c752-4e22-8c2e-bcd348f232f9",
   "metadata": {},
   "source": [
    "List to String"
   ]
  },
  {
   "cell_type": "code",
   "execution_count": 41,
   "id": "a7f58abe-cfac-4c50-a7bb-5b7357f92b9e",
   "metadata": {},
   "outputs": [
    {
     "name": "stdout",
     "output_type": "stream",
     "text": [
      "['charity', 'begins', 'at', 'home'] <class 'list'> 140192922254912\n"
     ]
    }
   ],
   "source": [
    "list1 = ['charity', 'begins', 'at', 'home'] \n",
    "print(list1 , type(list1) , id(list1))"
   ]
  },
  {
   "cell_type": "code",
   "execution_count": 46,
   "id": "b8672aff-7767-45ab-9f09-fd38ea2728c0",
   "metadata": {},
   "outputs": [
    {
     "name": "stdout",
     "output_type": "stream",
     "text": [
      "charity begins at home <class 'str'> 22\n"
     ]
    }
   ],
   "source": [
    "mystr=\" \".join(list1)\n",
    "print(mystr , type(mystr) , len(mystr))"
   ]
  },
  {
   "cell_type": "code",
   "execution_count": 47,
   "id": "cee3326d-bf06-44bd-98fa-068bbbb7515b",
   "metadata": {},
   "outputs": [
    {
     "name": "stdout",
     "output_type": "stream",
     "text": [
      "charity begins at home <class 'str'> 22\n"
     ]
    }
   ],
   "source": [
    "mystr=\" \".join(list1)\n",
    "print(mystr , type(mystr) , len(mystr))"
   ]
  },
  {
   "cell_type": "code",
   "execution_count": 48,
   "id": "195a1770-8e10-4f0c-9da9-332169ff9dbf",
   "metadata": {},
   "outputs": [
    {
     "name": "stdout",
     "output_type": "stream",
     "text": [
      "charity-begins-at-home <class 'str'> 22\n"
     ]
    }
   ],
   "source": [
    "mystr=\"-\".join(list1)\n",
    "print(mystr , type(mystr) , len(mystr))"
   ]
  },
  {
   "cell_type": "code",
   "execution_count": 55,
   "id": "95becbc6-8dc8-4fc6-87f6-dae19494d7d4",
   "metadata": {},
   "outputs": [
    {
     "name": "stdout",
     "output_type": "stream",
     "text": [
      "university 10\n",
      "u,n,i,v,e,r,s,i,t,y,\n",
      "u,n,i,v,e,r,s,i,t,y,"
     ]
    }
   ],
   "source": [
    "mystr = \"university\"\n",
    "print(mystr , len(mystr))\n",
    "for i in range(len(mystr)):\n",
    "    print(mystr[i],end = \",\")\n",
    "\n",
    "print()\n",
    "\n",
    "for i in mystr:\n",
    "    print(i,end = \",\")"
   ]
  },
  {
   "cell_type": "markdown",
   "id": "9731b913-2b1c-45a2-a94e-b9cbc139d320",
   "metadata": {},
   "source": [
    "Take a sentence with upper and lower case letters and other charcaters from the user and find the number of vowels and constants in the given string"
   ]
  },
  {
   "cell_type": "code",
   "execution_count": 64,
   "id": "8135eee9-945e-41fd-bab7-a5ffa36f2b71",
   "metadata": {},
   "outputs": [
    {
     "name": "stdin",
     "output_type": "stream",
     "text": [
      " Asad Rahmani\n"
     ]
    },
    {
     "name": "stdout",
     "output_type": "stream",
     "text": [
      "Number of Vowel 5 and consonant is 6....\n",
      "End of program\n"
     ]
    }
   ],
   "source": [
    "mystr = input().lower()\n",
    "vowel = constant =0\n",
    "for ch in mystr:\n",
    "    if(ch.isalpha()):\n",
    "        if(ch in \"aeiou\"): vowel +=1\n",
    "        else: constant +=1\n",
    "print(f\"Number of Vowel {vowel} and consonant is {constant}....\")\n",
    "print(\"End of program\")\n",
    "    "
   ]
  }
 ],
 "metadata": {
  "kernelspec": {
   "display_name": "Python 3 (ipykernel)",
   "language": "python",
   "name": "python3"
  },
  "language_info": {
   "codemirror_mode": {
    "name": "ipython",
    "version": 3
   },
   "file_extension": ".py",
   "mimetype": "text/x-python",
   "name": "python",
   "nbconvert_exporter": "python",
   "pygments_lexer": "ipython3",
   "version": "3.13.1"
  }
 },
 "nbformat": 4,
 "nbformat_minor": 5
}
