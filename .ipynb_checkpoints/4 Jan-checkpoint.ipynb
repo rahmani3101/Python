{
 "cells": [
  {
   "cell_type": "markdown",
   "id": "37d2e2f5-d7f4-4909-803b-9e1cc560b96d",
   "metadata": {},
   "source": [
    "## Nested Loop"
   ]
  },
  {
   "cell_type": "code",
   "execution_count": 4,
   "id": "dcc604e6-61c4-4703-9f9e-b193aaf20a71",
   "metadata": {},
   "outputs": [
    {
     "name": "stdout",
     "output_type": "stream",
     "text": [
      "Visit Doctor\n",
      "Good morning to my family....\n",
      "Day number : 0 and medicine number : 1...\n",
      "Day number : 0 and medicine number : 2...\n",
      "Day number : 0 and medicine number : 3...\n",
      "Good Night to Family...\n",
      "Good morning to my family....\n",
      "Day number : 1 and medicine number : 1...\n",
      "Day number : 1 and medicine number : 2...\n",
      "Day number : 1 and medicine number : 3...\n",
      "Good Night to Family...\n",
      "Good morning to my family....\n",
      "Day number : 2 and medicine number : 1...\n",
      "Day number : 2 and medicine number : 2...\n",
      "Day number : 2 and medicine number : 3...\n",
      "Good Night to Family...\n",
      "Good morning to my family....\n",
      "Day number : 3 and medicine number : 1...\n",
      "Day number : 3 and medicine number : 2...\n",
      "Day number : 3 and medicine number : 3...\n",
      "Good Night to Family...\n",
      "Good morning to my family....\n",
      "Day number : 4 and medicine number : 1...\n",
      "Day number : 4 and medicine number : 2...\n",
      "Day number : 4 and medicine number : 3...\n",
      "Good Night to Family...\n",
      "Good morning to my family....\n",
      "Day number : 5 and medicine number : 1...\n",
      "Day number : 5 and medicine number : 2...\n",
      "Day number : 5 and medicine number : 3...\n",
      "Good Night to Family...\n",
      "Total medicine counsumed 18 ... \n",
      "End of Process\n"
     ]
    }
   ],
   "source": [
    "print(\"Visit Doctor\")\n",
    "day = 0\n",
    "medicount =0\n",
    "while(day<=5):\n",
    "    print(\"Good morning to my family....\")\n",
    "    for medi in range(1,4):\n",
    "        print(f\"Day number : {day} and medicine number : {medi}...\")\n",
    "        medicount += 1\n",
    "    print(\"Good Night to Family...\")\n",
    "    day += 1\n",
    "print(f\"Total medicine counsumed {medicount} ... \")   \n",
    "print(\"End of Process\")"
   ]
  },
  {
   "cell_type": "markdown",
   "id": "9b530d94-c58e-4254-a5f7-e11cbfb4a894",
   "metadata": {},
   "source": [
    "#### Sum of the following series for the first n number of terms, where n will be given by the user.\n",
    "#### total = 1 + 2 + 3 + 4 + 10 +5 + 6 + 7 + 8 + 26 + 9 + 10 + .... n terms.\n",
    "\n"
   ]
  },
  {
   "cell_type": "markdown",
   "id": "0ed2cf22-987b-4a2f-8fa0-68571dacb2c3",
   "metadata": {},
   "source": [
    "n = int(input(\"Please enter the number of terms in series\"))\n",
    "fsum = tsum =0\n",
    "term = 1\n",
    "for i in range (1 , n+1):\n",
    "    if (i%5 == 0 ):\n",
    "        fsum += tsum\n",
    "        print (\"Adding the temporary sum term \" , tsum)\n",
    "        tsum = 0\n",
    "    else:\n",
    "        fsum = fsum + term\n",
    "        print(\"Adding the term \" ,term)\n",
    "        tsum += term\n",
    "        term = term +1\n",
    "print (\"so the final sum is \" , fsum)        "
   ]
  },
  {
   "cell_type": "code",
   "execution_count": 34,
   "id": "7b0afe9e-07d5-4952-b4bd-d8ca248539f7",
   "metadata": {},
   "outputs": [
    {
     "name": "stdin",
     "output_type": "stream",
     "text": [
      "Please enter the number of terms in series 7\n"
     ]
    },
    {
     "name": "stdout",
     "output_type": "stream",
     "text": [
      "So the final is  31\n"
     ]
    }
   ],
   "source": [
    "# 2 nd method\n",
    "\n",
    "term = int(input(\"Please enter the number of terms in series\"))\n",
    "sum = 0\n",
    "a =0\n",
    "n=1\n",
    "for i in range (1 ,term + 1):\n",
    "    if (i%5 == 0):\n",
    "        a +=sum\n",
    "    else:\n",
    "        sum += n\n",
    "        n+=1\n",
    "print(\"So the final is \",sum+a)        "
   ]
  },
  {
   "cell_type": "code",
   "execution_count": 35,
   "id": "3af7a3f6-577a-4a4d-af37-61c0adadb439",
   "metadata": {},
   "outputs": [
    {
     "name": "stdout",
     "output_type": "stream",
     "text": [
      "12345\n"
     ]
    }
   ],
   "source": [
    "print (12345)"
   ]
  },
  {
   "cell_type": "code",
   "execution_count": 36,
   "id": "0100b456-dd8b-4ace-a3e5-7c5ec90b3774",
   "metadata": {},
   "outputs": [
    {
     "name": "stdout",
     "output_type": "stream",
     "text": [
      "12345\n"
     ]
    }
   ],
   "source": [
    "print(\"12345\")"
   ]
  },
  {
   "cell_type": "markdown",
   "id": "6a6284b0-4c01-4297-976c-125347f2a9cd",
   "metadata": {},
   "source": [
    "## Pattern Printing"
   ]
  },
  {
   "cell_type": "raw",
   "id": "123f21fc-a8dd-4593-b8a9-505bac50d2b3",
   "metadata": {},
   "source": [
    "\n",
    "\n",
    "n = 6 \n",
    "\n",
    ". . . . . *\n",
    ". . . . * * * \n",
    ". . . * * * * * \n",
    ". . * * * * * * * \n",
    ". * * * * * * * * * \n",
    "* * * * * * * * * * * \n",
    "\n",
    "i  .  *\n",
    "---------\n",
    "1  5  1 \n",
    "2  4  3 \n",
    "3  3  5                   (i,n)\n",
    "4  2  7             . =>  (n-i)\n",
    "5  1  9             * =>  (2*i -1)\n",
    "6  0  11"
   ]
  },
  {
   "cell_type": "code",
   "execution_count": 2,
   "id": "5ad7c588-686b-420d-9b84-be588579ce33",
   "metadata": {},
   "outputs": [
    {
     "name": "stdin",
     "output_type": "stream",
     "text": [
      "Enter number of layers :  10\n"
     ]
    },
    {
     "name": "stdout",
     "output_type": "stream",
     "text": [
      ".........*\n",
      "........***\n",
      ".......*****\n",
      "......*******\n",
      ".....*********\n",
      "....***********\n",
      "...*************\n",
      "..***************\n",
      ".*****************\n",
      "*******************\n"
     ]
    }
   ],
   "source": [
    "n = int (input (\"Enter number of layers : \"))\n",
    "for i in range (1 , n+1):\n",
    "    print (\".\"*(n-i)+\"*\"*(2*i-1))\n",
    "         "
   ]
  }
 ],
 "metadata": {
  "kernelspec": {
   "display_name": "Python 3 (ipykernel)",
   "language": "python",
   "name": "python3"
  },
  "language_info": {
   "codemirror_mode": {
    "name": "ipython",
    "version": 3
   },
   "file_extension": ".py",
   "mimetype": "text/x-python",
   "name": "python",
   "nbconvert_exporter": "python",
   "pygments_lexer": "ipython3",
   "version": "3.13.1"
  }
 },
 "nbformat": 4,
 "nbformat_minor": 5
}
