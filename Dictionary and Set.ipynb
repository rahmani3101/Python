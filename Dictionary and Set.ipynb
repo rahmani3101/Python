{
 "cells": [
  {
   "cell_type": "code",
   "execution_count": 3,
   "id": "c2f14555-211f-4fe3-8e9e-47ecea4b625c",
   "metadata": {},
   "outputs": [
    {
     "name": "stdout",
     "output_type": "stream",
     "text": [
      "{'passenger-1': 'Indigo', 'passenger-2': 'Indigo', 'passenger-3': 'Indigo', 'passenger-4': 'Indigo'} 4\n"
     ]
    }
   ],
   "source": [
    "mykeys = ['passenger-1','passenger-2','passenger-3','passenger-4']\n",
    "flight = 'Indigo'\n",
    "\n",
    "dict1 = dict.fromkeys(mykeys,flight)\n",
    "print(dict1 , len(dict1))"
   ]
  },
  {
   "cell_type": "code",
   "execution_count": 4,
   "id": "4a59f151-c658-44f0-8662-8ffd81cbb8b3",
   "metadata": {},
   "outputs": [
    {
     "name": "stdout",
     "output_type": "stream",
     "text": [
      "{'key-1': 100, 'key-2': 200, 'key-3': 300, 'key-4': 400}\n"
     ]
    }
   ],
   "source": [
    "mykeys = ['key-1','key-2','key-3','key-4']\n",
    "myvalue =[100,200,300,400]\n",
    "\n",
    "res = dict(zip(mykeys,myvalue))\n",
    "print(res)"
   ]
  },
  {
   "cell_type": "code",
   "execution_count": 7,
   "id": "f91e91bf-ed63-45f2-a307-0a3c9e31df90",
   "metadata": {},
   "outputs": [
    {
     "name": "stdout",
     "output_type": "stream",
     "text": [
      "{'mango': 'red', 'orange': 'orange', 'guava': 'green', 'pineapple': 'yellow'} 4 139814624657856 <class 'dict'>\n",
      "{'mango': 'red', 'orange': 'orange', 'guava': 'green', 'pineapple': 'yellow'} 4 139814624657856 <class 'dict'>\n",
      "{'mango': 'red', 'orange': 'orange', 'guava': 'green', 'pineapple': 'yellow', 'apple': 'red'} 5 139814624657856 <class 'dict'>\n",
      "{'mango': 'red', 'orange': 'orange', 'guava': 'green', 'pineapple': 'yellow', 'apple': 'red'} 5 139814624657856 <class 'dict'>\n"
     ]
    }
   ],
   "source": [
    "dict1 = {'mango':'red','orange':'orange','guava':'green','pineapple':'yellow'}\n",
    "print(dict1 , len(dict1),id(dict1),type(dict1))\n",
    "\n",
    "dict1.setdefault('mango','green')\n",
    "print(dict1 , len(dict1),id(dict1),type(dict1))\n",
    "\n",
    "dict1.setdefault('apple','red')\n",
    "print(dict1 , len(dict1),id(dict1),type(dict1))\n",
    "\n",
    "dict1.setdefault('pineapple','light green')\n",
    "print(dict1 , len(dict1),id(dict1),type(dict1))"
   ]
  },
  {
   "cell_type": "markdown",
   "id": "8c7f2a18-c293-452b-bea1-9fac331a21b9",
   "metadata": {},
   "source": [
    "## Dealing with Set Processing"
   ]
  },
  {
   "cell_type": "markdown",
   "id": "a77c1af6-2688-42b2-94f4-49d7b3f24f3e",
   "metadata": {},
   "source": [
    "Set is a collection of unique unordered calue of same or different data types enclosed within a second bracket(curly braces).\n",
    "Set items are mutable as INSERT , DELETE , and UPDATE operations can be carried out on them"
   ]
  },
  {
   "cell_type": "code",
   "execution_count": 14,
   "id": "2b5dd27d-487b-471e-9f05-2d3d63e4d52c",
   "metadata": {},
   "outputs": [
    {
     "name": "stdout",
     "output_type": "stream",
     "text": [
      "({'C++', 'Java', 'Python', 'JS', 'C'},) 1 <class 'tuple'> 139814628368800\n",
      "\n",
      "{'C++', 'Java', 'Python', 'JS', 'C'} 5 <class 'set'> 139814624610336\n",
      "\n",
      "{'C++', 'Java', 'Python', 'JS', 'C'} 5 <class 'set'> 139814624609888\n",
      "\n"
     ]
    }
   ],
   "source": [
    "#forming a set from list\n",
    "language = set([ 'C++','Java','C','JS','Python']),\n",
    "print(language ,len(language), type(language) , id(language))\n",
    "print()\n",
    "\n",
    "#forming a set from tuple\n",
    "language = set(( 'C++','Java','C','JS','Python'))\n",
    "print(language , len(language) , type(language) , id(language))\n",
    "print()\n",
    "\n",
    "#forming a set directly\n",
    "language = {'C++','Java','C','JS','Python'}\n",
    "print(language , len(language) , type(language) , id(language))\n",
    "print()"
   ]
  },
  {
   "cell_type": "markdown",
   "id": "bb8f6af1-6680-48a3-b964-493afa6de2ce",
   "metadata": {},
   "source": [
    "#### Set Operation : Union , Intersection , Exclusive OR (Symmetric Difference) , Subtraction (set difference)"
   ]
  },
  {
   "cell_type": "code",
   "execution_count": 20,
   "id": "97cbb299-1c02-4a28-935a-d502686b276f",
   "metadata": {},
   "outputs": [
    {
     "name": "stdout",
     "output_type": "stream",
     "text": [
      "{'python', 'C++', 'Java'} 3 <class 'set'> 139814624609888\n",
      "{'python', 'cobra', 'viper'} 3 <class 'set'> 139814624611008\n",
      "{'python', 'cobra', 'C++', 'Java', 'viper'} 5 <class 'set'> 139814624613472\n",
      "{'python', 'cobra', 'C++', 'Java', 'viper'} 5 <class 'set'> 139814624611904\n"
     ]
    }
   ],
   "source": [
    "# set union operation\n",
    "\n",
    "language = {'C++','python','Java'}\n",
    "print(language , len(language) , type(language) , id(language))\n",
    "\n",
    "snakes = {'cobra','viper','python'}\n",
    "print(snakes , len(snakes),type(snakes),id(snakes))\n",
    "\n",
    "result = language.union(snakes)\n",
    "print(result , len(result),type(result),id(result))\n",
    "\n",
    "result = language | snakes    #| is the symbol of union\n",
    "print(result , len(result),type(result),id(result))"
   ]
  },
  {
   "cell_type": "code",
   "execution_count": 26,
   "id": "d088fc2d-4c08-4fea-ac66-e1d74934ad2d",
   "metadata": {},
   "outputs": [
    {
     "name": "stdout",
     "output_type": "stream",
     "text": [
      "{'python', 'C++', 'Java'} 3 <class 'set'> 139814611082528\n",
      "{'python', 'cobra', 'viper'} 3 <class 'set'> 139814610700320\n",
      "{'python'} 1 <class 'set'> 139814617707936\n",
      "{'python'} 1 <class 'set'> 139814611302464\n",
      "\n",
      "{'python'} 1 <class 'set'> 139814611082528\n",
      "{'python', 'cobra', 'viper'} 3 <class 'set'> 139814610700320\n"
     ]
    }
   ],
   "source": [
    "# set intersection operation\n",
    "\n",
    "language = {'C++','python','Java'}\n",
    "print(language , len(language) , type(language) , id(language))\n",
    "\n",
    "snakes = {'cobra','viper','python'}\n",
    "print(snakes , len(snakes),type(snakes),id(snakes))\n",
    "\n",
    "result = language.intersection(snakes)\n",
    "print(result , len(result),type(result),id(result))\n",
    "\n",
    "result = language & snakes    #& is the symbol of intersection\n",
    "print(result , len(result),type(result),id(result))\n",
    "print()\n",
    "\n",
    "language.intersection_update(snakes)\n",
    "print(language , len(language) , type(language) , id(language))\n",
    "print(snakes , len(snakes),type(snakes),id(snakes))"
   ]
  },
  {
   "cell_type": "code",
   "execution_count": 36,
   "id": "34cefb27-55be-405b-995f-1aa1026af7a2",
   "metadata": {},
   "outputs": [
    {
     "name": "stdout",
     "output_type": "stream",
     "text": [
      "{'python', 'C++', 'Java'} 3 <class 'set'> 139814611626784\n",
      "{'python', 'cobra', 'viper'} 3 <class 'set'> 139814614061728\n",
      "{'C++', 'Java', 'viper', 'cobra'} 4 <class 'set'> 139814614063072\n",
      "{'C++', 'Java', 'viper', 'cobra'} 4 <class 'set'> 139814614063968\n",
      "{'viper', 'cobra', 'C++', 'Java'} 4 <class 'set'> 139814611626784\n",
      "{'python', 'cobra', 'viper'} 3 <class 'set'> 139814614061728\n"
     ]
    }
   ],
   "source": [
    "# set symmetric difference operation\n",
    "\n",
    "language = {'C++','python','Java'}\n",
    "print(language , len(language) , type(language) , id(language))\n",
    "\n",
    "snakes = {'cobra','viper','python'}\n",
    "print(snakes , len(snakes),type(snakes),id(snakes))\n",
    "\n",
    "result = language.symmetric_difference(snakes)\n",
    "print(result , len(result),type(result),id(result))\n",
    "\n",
    "result = language ^snakes\n",
    "print(result , len(result),type(result),id(result))\n",
    "\n",
    "language.symmetric_difference_update(snakes)\n",
    "print(language , len(language) , type(language) , id(language))\n",
    "print(snakes , len(snakes),type(snakes),id(snakes))"
   ]
  },
  {
   "cell_type": "code",
   "execution_count": 37,
   "id": "a57b335b-78c0-4b14-818c-d5698c82967b",
   "metadata": {},
   "outputs": [
    {
     "name": "stdout",
     "output_type": "stream",
     "text": [
      "{'python', 'C++', 'Java'} 3 <class 'set'> 139814613554272\n",
      "{'python', 'cobra', 'viper'} 3 <class 'set'> 139814614063072\n",
      "{'C++', 'Java'} 2 <class 'set'> 139814614061728\n",
      "{'C++', 'Java'} 2 <class 'set'> 139814614063968\n",
      "\n",
      "{'C++', 'Java'} 2 <class 'set'> 139814613554272\n",
      "{'python', 'cobra', 'viper'} 3 <class 'set'> 139814614063072\n"
     ]
    }
   ],
   "source": [
    "# set  difference operation\n",
    "language = {'C++','python','Java'}\n",
    "print(language , len(language) , type(language) , id(language))\n",
    "\n",
    "snakes = {'cobra','viper','python'}\n",
    "print(snakes , len(snakes),type(snakes),id(snakes))\n",
    "\n",
    "result = language.difference(snakes)\n",
    "print(result , len(result),type(result),id(result))\n",
    "\n",
    "result = language - snakes\n",
    "print(result , len(result),type(result),id(result))\n",
    "print()\n",
    "\n",
    "language.difference_update(snakes)\n",
    "print(language , len(language) , type(language) , id(language))\n",
    "print(snakes , len(snakes),type(snakes),id(snakes))"
   ]
  },
  {
   "cell_type": "code",
   "execution_count": 39,
   "id": "5452bca2-aa70-41cf-bd8f-a8061b5c5323",
   "metadata": {},
   "outputs": [
    {
     "name": "stdout",
     "output_type": "stream",
     "text": [
      "False True True False\n",
      "False True\n"
     ]
    }
   ],
   "source": [
    "set1 = { 100,200,300,400,500}\n",
    "set2 = {100,300,400}\n",
    "set3 = {600,700,800,900}\n",
    "\n",
    "print(set1.issubset(set2),set2.issubset(set1),set1.issuperset(set2),set2.issuperset(set1))\n",
    "print(set1.isdisjoint(set2),set1.isdisjoint(set3))"
   ]
  }
 ],
 "metadata": {
  "kernelspec": {
   "display_name": "Python 3 (ipykernel)",
   "language": "python",
   "name": "python3"
  },
  "language_info": {
   "codemirror_mode": {
    "name": "ipython",
    "version": 3
   },
   "file_extension": ".py",
   "mimetype": "text/x-python",
   "name": "python",
   "nbconvert_exporter": "python",
   "pygments_lexer": "ipython3",
   "version": "3.13.2"
  }
 },
 "nbformat": 4,
 "nbformat_minor": 5
}
