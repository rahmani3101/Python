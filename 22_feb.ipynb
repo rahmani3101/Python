{
 "cells": [
  {
   "cell_type": "markdown",
   "id": "fe4afd18-84ad-4293-abb8-98cea9d91497",
   "metadata": {},
   "source": [
    "## Dealing with List Processing"
   ]
  },
  {
   "cell_type": "markdown",
   "id": "51874db0-c22a-4187-bc51-dc8c588c1dd8",
   "metadata": {},
   "source": [
    "List is a collection of data items of same or different data types enclosed in sqaure brackets.List items are mutable as INSERT , DELETE , and UPDATE operations can be carried out on them"
   ]
  },
  {
   "cell_type": "code",
   "execution_count": 2,
   "id": "f9740c2d-8538-4b00-95c3-5ec77ad4ff63",
   "metadata": {},
   "outputs": [
    {
     "name": "stdout",
     "output_type": "stream",
     "text": [
      "[100, 200, 300, 400, 500] <class 'list'> 5 139771770418624\n"
     ]
    }
   ],
   "source": [
    "list1 = [100,200,300,400,500]\n",
    "print(list1 , type(list1) ,len(list1), id(list1))"
   ]
  },
  {
   "cell_type": "code",
   "execution_count": 4,
   "id": "e85e617e-8815-4a49-b9b4-43da8a96a72e",
   "metadata": {},
   "outputs": [
    {
     "name": "stdout",
     "output_type": "stream",
     "text": [
      "500 100\n"
     ]
    }
   ],
   "source": [
    "print(max(list1) , min(list1))"
   ]
  },
  {
   "cell_type": "code",
   "execution_count": 5,
   "id": "6c5580cd-1eaf-40c2-8b42-7999ef3c6176",
   "metadata": {},
   "outputs": [
    {
     "name": "stdout",
     "output_type": "stream",
     "text": [
      "1500\n"
     ]
    }
   ],
   "source": [
    "print(sum(list1))"
   ]
  },
  {
   "cell_type": "code",
   "execution_count": 6,
   "id": "cef9cb05-3f99-4f56-9a68-c3c1a97ff624",
   "metadata": {},
   "outputs": [
    {
     "name": "stdout",
     "output_type": "stream",
     "text": [
      "300.0\n"
     ]
    }
   ],
   "source": [
    "#average of list\n",
    "print(sum(list1)/len(list1))"
   ]
  },
  {
   "cell_type": "code",
   "execution_count": 9,
   "id": "f10ff6b9-f7d1-447c-a217-a7352d037409",
   "metadata": {},
   "outputs": [
    {
     "name": "stdout",
     "output_type": "stream",
     "text": [
      "Tuesday Friday\n"
     ]
    }
   ],
   "source": [
    "lis1 = [\"Monday\" , \"Friday\",\"Thrusday\",\"Tuesday\" ,\"Sunday\"]\n",
    "print(max(lis1),min(lis1))"
   ]
  },
  {
   "cell_type": "code",
   "execution_count": 10,
   "id": "bff99ea4-1eef-4f0c-b2f7-b5b1a272f046",
   "metadata": {},
   "outputs": [
    {
     "name": "stdout",
     "output_type": "stream",
     "text": [
      "500.45 False\n"
     ]
    }
   ],
   "source": [
    "list1 = [100,500.45,200,False,400.5,True,300]\n",
    "print(max(list1), min(list1))"
   ]
  },
  {
   "cell_type": "code",
   "execution_count": 11,
   "id": "c646894f-3025-4874-942a-734d3d3b41c6",
   "metadata": {},
   "outputs": [
    {
     "name": "stdout",
     "output_type": "stream",
     "text": [
      "1501.95 214.56428571428572\n"
     ]
    }
   ],
   "source": [
    "print(sum(list1),sum(list1)/len(list1))"
   ]
  },
  {
   "cell_type": "code",
   "execution_count": 12,
   "id": "f1d718fe-3ffe-43f8-a3f3-5950e10a6bbb",
   "metadata": {},
   "outputs": [
    {
     "name": "stdout",
     "output_type": "stream",
     "text": [
      "Friday Friday Thrusday Thrusday\n"
     ]
    }
   ],
   "source": [
    "list1 = [\"Sunday\" , \"Tuesday\" , \"Friday\" , \"Saturday\" , \"Thrusday\"]\n",
    "print(list1[2],list1[-3],list1[4],list1[-1])"
   ]
  },
  {
   "cell_type": "code",
   "execution_count": 13,
   "id": "44d10a72-08f5-42d5-82cd-773f11d31beb",
   "metadata": {},
   "outputs": [
    {
     "name": "stdout",
     "output_type": "stream",
     "text": [
      "['Sunday', 'Friday', 'Thrusday']\n"
     ]
    }
   ],
   "source": [
    "print(list1[0::2])"
   ]
  },
  {
   "cell_type": "code",
   "execution_count": 14,
   "id": "0040ab27-2a74-4945-9fcb-dbc26f488e51",
   "metadata": {},
   "outputs": [
    {
     "name": "stdout",
     "output_type": "stream",
     "text": [
      "['Tuesday', 'Saturday']\n"
     ]
    }
   ],
   "source": [
    "print(list1[1::2])"
   ]
  },
  {
   "cell_type": "code",
   "execution_count": 16,
   "id": "8ee3b1b0-b6b9-41d9-85e4-5216132c81cc",
   "metadata": {},
   "outputs": [
    {
     "name": "stdout",
     "output_type": "stream",
     "text": [
      "['Thrusday', 'Saturday', 'Friday', 'Tuesday', 'Sunday']\n",
      "tur\n"
     ]
    }
   ],
   "source": [
    "print(list1[::-1])\n",
    "print(list1[3][2:5])"
   ]
  },
  {
   "cell_type": "code",
   "execution_count": 17,
   "id": "7773810b-7e46-4c12-b92c-e0937c00c4d1",
   "metadata": {},
   "outputs": [
    {
     "name": "stdout",
     "output_type": "stream",
     "text": [
      "tur\n"
     ]
    }
   ],
   "source": [
    "print(list1[-2][-6:-3])"
   ]
  },
  {
   "cell_type": "markdown",
   "id": "5eee191c-c823-4811-adab-90dac412e9cc",
   "metadata": {},
   "source": [
    "### Defining empty set , list , tuple , dictionary...."
   ]
  },
  {
   "cell_type": "code",
   "execution_count": 20,
   "id": "df29f3ed-8731-4f9c-beda-c119cb927f78",
   "metadata": {},
   "outputs": [
    {
     "name": "stdout",
     "output_type": "stream",
     "text": [
      "[] 0 <class 'list'> 139771770493760\n"
     ]
    }
   ],
   "source": [
    "var1=[]   #empty list\n",
    "print(var1 , len(var1) ,type(var1) , id (var1))"
   ]
  },
  {
   "cell_type": "code",
   "execution_count": 21,
   "id": "df641abb-820a-4ad9-84ca-3d04bce7b77a",
   "metadata": {},
   "outputs": [
    {
     "name": "stdout",
     "output_type": "stream",
     "text": [
      "() 0 <class 'tuple'> 139772484956104\n"
     ]
    }
   ],
   "source": [
    "var1 = ()   #empty tuple\n",
    "print(var1 , len(var1) ,type(var1) , id (var1))"
   ]
  },
  {
   "cell_type": "code",
   "execution_count": 22,
   "id": "d82619f6-3245-4f03-a4fd-0b91fac1ab6c",
   "metadata": {},
   "outputs": [
    {
     "name": "stdout",
     "output_type": "stream",
     "text": [
      "{} 0 <class 'dict'> 139771770550528\n"
     ]
    }
   ],
   "source": [
    "var1 = {}   # empty dictionary\n",
    "print(var1 , len(var1) ,type(var1) , id (var1))"
   ]
  },
  {
   "cell_type": "code",
   "execution_count": 23,
   "id": "1695c812-95df-4eb4-b1fd-52313f427dc3",
   "metadata": {},
   "outputs": [
    {
     "name": "stdout",
     "output_type": "stream",
     "text": [
      "set() 0 <class 'set'> 139771780685312\n"
     ]
    }
   ],
   "source": [
    "var1 = set()   # empty set\n",
    "print(var1 , len(var1) ,type(var1) , id (var1))"
   ]
  },
  {
   "cell_type": "code",
   "execution_count": 24,
   "id": "41a9a913-3bf3-4868-9d5a-9816fd3c4f9b",
   "metadata": {},
   "outputs": [
    {
     "name": "stdout",
     "output_type": "stream",
     "text": [
      "frozenset() 0 <class 'frozenset'> 139771780684640\n"
     ]
    }
   ],
   "source": [
    "var1 = frozenset()   # empty frozen set\n",
    "print(var1 , len(var1) ,type(var1) , id (var1))"
   ]
  },
  {
   "cell_type": "code",
   "execution_count": 26,
   "id": "28696007-cf57-41f5-a0f6-191bbcaa225e",
   "metadata": {},
   "outputs": [
    {
     "name": "stdout",
     "output_type": "stream",
     "text": [
      "(9,) 1 <class 'tuple'> 139772242295728\n"
     ]
    }
   ],
   "source": [
    "var1 = (9,)  # singleton representation of a tuple\n",
    "print(var1 , len(var1) ,type(var1) , id (var1))"
   ]
  },
  {
   "cell_type": "markdown",
   "id": "195dd380-fcf0-4522-b66b-405172603d6e",
   "metadata": {},
   "source": [
    "### Converting string to list , tuple , set , frozen set"
   ]
  },
  {
   "cell_type": "code",
   "execution_count": 31,
   "id": "573b7652-ff0a-48d5-b64a-c539b3436ed8",
   "metadata": {},
   "outputs": [
    {
     "name": "stdout",
     "output_type": "stream",
     "text": [
      "my word mississippi 139771770585520 19 139771770585520\n"
     ]
    }
   ],
   "source": [
    "mystr = \"my word mississippi\"\n",
    "print(mystr , id(mystr) , len(mystr) , id(mystr))"
   ]
  },
  {
   "cell_type": "code",
   "execution_count": 28,
   "id": "d7afe713-11a7-4fed-b8ef-97f60baede63",
   "metadata": {},
   "outputs": [
    {
     "name": "stdout",
     "output_type": "stream",
     "text": [
      "['m', 'y', ' ', 'w', 'o', 'r', 'd', ' ', 'm', 'i', 's', 's', 'i', 's', 's', 'i', 'p', 'p', 'i'] 19 <class 'list'> 139771770585472\n"
     ]
    }
   ],
   "source": [
    "list1 = list(mystr)\n",
    "print(list1 , len(list1) , type(list1) , id(list1))"
   ]
  },
  {
   "cell_type": "code",
   "execution_count": 29,
   "id": "ffd33629-a9f4-4614-ad80-ea909d594fa5",
   "metadata": {},
   "outputs": [
    {
     "name": "stdout",
     "output_type": "stream",
     "text": [
      "('m', 'y', ' ', 'w', 'o', 'r', 'd', ' ', 'm', 'i', 's', 's', 'i', 's', 's', 'i', 'p', 'p', 'i') 19 139771781077056 <class 'tuple'>\n"
     ]
    }
   ],
   "source": [
    "result = tuple(mystr)\n",
    "print(result , len(result) , id(result) , type(result))"
   ]
  },
  {
   "cell_type": "code",
   "execution_count": 32,
   "id": "6a5e1389-57f0-4f00-a263-829a5d5bd68f",
   "metadata": {},
   "outputs": [
    {
     "name": "stdout",
     "output_type": "stream",
     "text": [
      "{' ', 'm', 'd', 'y', 'o', 'r', 'i', 's', 'w', 'p'} 10 139771780685984 <class 'set'>\n"
     ]
    }
   ],
   "source": [
    "result = set(mystr)\n",
    "print(result , len(result) , id(result) , type(result))"
   ]
  },
  {
   "cell_type": "code",
   "execution_count": 35,
   "id": "f58e0b17-705d-4080-bced-9f86b5b55cfd",
   "metadata": {},
   "outputs": [
    {
     "name": "stdout",
     "output_type": "stream",
     "text": [
      "frozenset({' ', 'm', 'd', 'y', 'o', 'r', 'i', 's', 'w', 'p'}) 10 139771770633376 <class 'frozenset'>\n"
     ]
    }
   ],
   "source": [
    "result = frozenset(mystr)\n",
    "print(result , len(result) , id(result) , type(result))"
   ]
  },
  {
   "cell_type": "markdown",
   "id": "b6333807-ecd0-4ddf-b6e0-82d2d1b83556",
   "metadata": {},
   "source": [
    "### Insert Operation on List"
   ]
  },
  {
   "cell_type": "code",
   "execution_count": 36,
   "id": "cb027db2-6e9b-4402-8046-c4ccbe9b1acb",
   "metadata": {},
   "outputs": [
    {
     "name": "stdout",
     "output_type": "stream",
     "text": [
      "['Monday', 'Thrusday', 'Tuesday', 'Sunday'] <class 'list'> 139771757253568 4\n"
     ]
    }
   ],
   "source": [
    " list1 = [\"Monday\" , \"Thrusday\",\"Tuesday\" , \"Sunday\"]\n",
    "print(list1 , type(list1) , id(list1) , len(list1))"
   ]
  },
  {
   "cell_type": "code",
   "execution_count": 37,
   "id": "47f41585-8204-4828-81a0-ce45581914e5",
   "metadata": {},
   "outputs": [
    {
     "name": "stdout",
     "output_type": "stream",
     "text": [
      "['Monday', 'Thrusday', 'Tuesday', 'Sunday', 'Saturday'] <class 'list'> 139771757253568 5\n"
     ]
    }
   ],
   "source": [
    "list1.append(\"Saturday\")\n",
    "print(list1 , type(list1) , id(list1) , len(list1))"
   ]
  },
  {
   "cell_type": "code",
   "execution_count": 38,
   "id": "3626b928-cd11-438f-8bdb-74732841541b",
   "metadata": {},
   "outputs": [
    {
     "name": "stdout",
     "output_type": "stream",
     "text": [
      "['Monday', 'Thrusday', 'Tuesday', 'Sunday', 'Saturday', 'Friday'] <class 'list'> 139771757253568 6\n"
     ]
    }
   ],
   "source": [
    "list1.append(\"Friday\")\n",
    "print(list1 , type(list1) , id(list1) , len(list1))"
   ]
  },
  {
   "cell_type": "code",
   "execution_count": 39,
   "id": "5875efe3-383a-4464-b879-afa1fbd6ead1",
   "metadata": {},
   "outputs": [
    {
     "name": "stdout",
     "output_type": "stream",
     "text": [
      "['Monday', 'Thrusday', 'Tuesday', 'Sunday', 'Saturday', 'Friday', 'wednesday'] <class 'list'> 139771757253568 7\n"
     ]
    }
   ],
   "source": [
    "list1.append(\"wednesday\")\n",
    "print(list1 , type(list1) , id(list1) , len(list1))"
   ]
  },
  {
   "cell_type": "code",
   "execution_count": 45,
   "id": "d9be59d2-0930-4b01-8c5e-3325248ad39b",
   "metadata": {},
   "outputs": [
    {
     "name": "stdout",
     "output_type": "stream",
     "text": [
      "['Monday', 'Thrusday', 'Tuesday', 'Sunday'] <class 'list'> 139771757208960 4\n",
      "['Monday', 'Thrusday', 'Tuesday', 'Saturday', 'Sunday'] <class 'list'> 139771757208960 5\n",
      "['Monday', 'Thrusday', 'Tuesday', 'Friday', 'Saturday', 'Sunday'] <class 'list'> 139771757208960 6\n",
      "['Monday', 'Wednesday', 'Thrusday', 'Tuesday', 'Friday', 'Saturday', 'Sunday'] <class 'list'> 139771757208960 7\n",
      "['Monday', 'Wednesday', 'Thrusday', 'Tuesday', 'Friday', 'Saturday', 'Sunday', 'weekday'] <class 'list'> 139771757208960 8\n",
      "weekday\n"
     ]
    }
   ],
   "source": [
    "list1 = [\"Monday\" , \"Thrusday\",\"Tuesday\" , \"Sunday\"]\n",
    "print(list1 , type(list1) , id(list1) , len(list1))\n",
    "list1.insert(3,\"Saturday\")\n",
    "print(list1 , type(list1) , id(list1) , len(list1))\n",
    "list1.insert(3,\"Friday\")\n",
    "print(list1 , type(list1) , id(list1) , len(list1))\n",
    "list1.insert(1, \"Wednesday\")\n",
    "print(list1 , type(list1) , id(list1) , len(list1))\n",
    "list1.insert(100,\"weekday\")\n",
    "print(list1 , type(list1) , id(list1) , len(list1))\n",
    "print(list1[7])"
   ]
  },
  {
   "cell_type": "markdown",
   "id": "1ef9f19f-46c0-43c3-895c-561b2a32de7b",
   "metadata": {},
   "source": [
    "### Delete operation on list"
   ]
  },
  {
   "cell_type": "code",
   "execution_count": 46,
   "id": "a609aae5-514c-4579-891f-396361d5a7e7",
   "metadata": {},
   "outputs": [
    {
     "name": "stdout",
     "output_type": "stream",
     "text": [
      "['Monday', 'Tuesday', 'Wednesday', 'Thrusday', 'Friday', 'Saturday'] 6 <class 'list'> 139771757576064\n",
      "[] 0 <class 'list'> 139771757576064\n"
     ]
    }
   ],
   "source": [
    "list1 = [\"Monday\", \"Tuesday\",\"Wednesday\" , \"Thrusday\" , \"Friday\",\"Saturday\"]\n",
    "print(list1 , len(list1) , type(list1) , id(list1))\n",
    "list1.clear()\n",
    "print(list1 , len(list1) , type(list1) , id(list1))"
   ]
  },
  {
   "cell_type": "code",
   "execution_count": 47,
   "id": "80359f22-3603-4ab1-846e-34ae37e4d73c",
   "metadata": {},
   "outputs": [
    {
     "name": "stdout",
     "output_type": "stream",
     "text": [
      "['Monday', 'Tuesday', 'Wednesday', 'Thrusday', 'Friday', 'Saturday'] 6 <class 'list'> 139771757613568\n"
     ]
    },
    {
     "ename": "NameError",
     "evalue": "name 'list1' is not defined",
     "output_type": "error",
     "traceback": [
      "\u001b[0;31m---------------------------------------------------------------------------\u001b[0m",
      "\u001b[0;31mNameError\u001b[0m                                 Traceback (most recent call last)",
      "Cell \u001b[0;32mIn[47], line 4\u001b[0m\n\u001b[1;32m      2\u001b[0m \u001b[38;5;28mprint\u001b[39m(list1 , \u001b[38;5;28mlen\u001b[39m(list1) , \u001b[38;5;28mtype\u001b[39m(list1) , \u001b[38;5;28mid\u001b[39m(list1))\n\u001b[1;32m      3\u001b[0m \u001b[38;5;28;01mdel\u001b[39;00m list1\n\u001b[0;32m----> 4\u001b[0m \u001b[38;5;28mprint\u001b[39m(\u001b[43mlist1\u001b[49m , \u001b[38;5;28mlen\u001b[39m(list1) , \u001b[38;5;28mtype\u001b[39m(list1) , \u001b[38;5;28mid\u001b[39m(list1))\n",
      "\u001b[0;31mNameError\u001b[0m: name 'list1' is not defined"
     ]
    }
   ],
   "source": [
    "list1 = [\"Monday\", \"Tuesday\",\"Wednesday\" , \"Thrusday\" , \"Friday\",\"Saturday\"]\n",
    "print(list1 , len(list1) , type(list1) , id(list1))\n",
    "del list1\n",
    "print(list1 , len(list1) , type(list1) , id(list1)) # error because list is delated in last line"
   ]
  },
  {
   "cell_type": "code",
   "execution_count": 49,
   "id": "16c79171-9803-47ef-baad-ae954a59c51d",
   "metadata": {},
   "outputs": [
    {
     "name": "stdout",
     "output_type": "stream",
     "text": [
      "['Monday', 'Tuesday', 'Wednesday', 'Thrusday', 'Friday', 'Saturday'] 6 <class 'list'> 139771755749056\n",
      "['Monday', 'Tuesday', 'Wednesday', 'Thrusday', 'Friday'] 5 <class 'list'> 139771755749056\n",
      "['Tuesday', 'Wednesday', 'Thrusday', 'Friday'] 4 <class 'list'> 139771755749056\n"
     ]
    }
   ],
   "source": [
    "list1 = [\"Monday\", \"Tuesday\",\"Wednesday\" , \"Thrusday\" , \"Friday\",\"Saturday\"]\n",
    "print(list1 , len(list1) , type(list1) , id(list1))\n",
    "list1.remove('Saturday')\n",
    "print(list1 , len(list1) , type(list1) , id(list1))\n",
    "list1.remove('Monday')\n",
    "print(list1 , len(list1) , type(list1) , id(list1))"
   ]
  },
  {
   "cell_type": "code",
   "execution_count": 53,
   "id": "b667ccc3-74e1-4985-b4d8-75a195037eb2",
   "metadata": {},
   "outputs": [
    {
     "name": "stdout",
     "output_type": "stream",
     "text": [
      "['Monday', 'Tuesday', 'Wednesday', 'Thrusday', 'Friday', 'Sunday'] 6 <class 'list'> 139771755776384\n",
      "['Monday', 'Tuesday', 'Wednesday', 'Thrusday', 'Friday'] 5 <class 'list'> 139771755776384\n",
      "['Monday', 'Tuesday', 'Thrusday', 'Friday'] 4 <class 'list'> 139771755776384\n"
     ]
    }
   ],
   "source": [
    "list1 = [\"Monday\", \"Tuesday\",\"Wednesday\" , \"Thrusday\" , \"Friday\",\"Sunday\"]\n",
    "print(list1 , len(list1) , type(list1) , id(list1))\n",
    "list1.pop()\n",
    "print(list1 , len(list1) , type(list1) , id(list1))\n",
    "list1.pop(2)\n",
    "print(list1 , len(list1) , type(list1) , id(list1))"
   ]
  },
  {
   "cell_type": "markdown",
   "id": "581524d9-94b5-4fee-9326-bd6e9390eef0",
   "metadata": {},
   "source": [
    "### Update operation on list"
   ]
  },
  {
   "cell_type": "code",
   "execution_count": 56,
   "id": "21b7856f-29fb-4f3a-b2c0-2adf6cc80176",
   "metadata": {},
   "outputs": [
    {
     "name": "stdout",
     "output_type": "stream",
     "text": [
      "['Monday', 'Thrusday', 'Saturday', 'Tuesday', 'Friday', 'Sunday']\n",
      "['Monday', 'Thrusday', 'Saturday', 'Wednesday', 'Friday', 'Sunday'] <class 'list'> 139771757651008\n"
     ]
    }
   ],
   "source": [
    "list1 = ['Monday', 'Thrusday',\"Saturday\",\"Tuesday\",\"Friday\" , \"Sunday\"]\n",
    "print(list1)\n",
    "list1[3]=\"Wednesday\"\n",
    "print(list1, type(list1) , id(list1) )"
   ]
  },
  {
   "cell_type": "code",
   "execution_count": 58,
   "id": "e9c12239-9213-41cf-b05a-a882452a8014",
   "metadata": {},
   "outputs": [
    {
     "name": "stdout",
     "output_type": "stream",
     "text": [
      "['Monday', 'Thrusday', 'Saturday', 'Tuesday']\n",
      "['Monday', 'Thrusday', 'Saturday', 'Tuesday', 'Friday', 'Sunday'] 139771755981312 <class 'list'> 6\n"
     ]
    }
   ],
   "source": [
    "list1 = ['Monday', 'Thrusday',\"Saturday\",\"Tuesday\"]\n",
    "print(list1)\n",
    "list2 = [\"Friday\" ,\"Sunday\"]\n",
    "result = list1 + list2\n",
    "print(result , id(result) , type(result) , len(result))"
   ]
  },
  {
   "cell_type": "code",
   "execution_count": 60,
   "id": "b0d40da6-978a-4215-8670-ff0d7c3d2bec",
   "metadata": {},
   "outputs": [
    {
     "name": "stdout",
     "output_type": "stream",
     "text": [
      "['Monday', 'Thrusday', 'Saturday', 'Tuesday']\n",
      "['Monday', 'Thrusday', 'Saturday', 'Tuesday', 'Friday', 'Sunday'] 139771755750016 <class 'list'> 6\n"
     ]
    }
   ],
   "source": [
    "list1 = ['Monday', 'Thrusday',\"Saturday\",\"Tuesday\"]\n",
    "print(list1)\n",
    "list2 = [\"Friday\" ,\"Sunday\"]\n",
    "list1.extend(list2)            # extending the list\n",
    "print(list1 , id(list1) , type(list1) , len(list1))"
   ]
  },
  {
   "cell_type": "code",
   "execution_count": 61,
   "id": "72b97707-9728-4b9a-aea8-c6f43db3370b",
   "metadata": {},
   "outputs": [
    {
     "name": "stdout",
     "output_type": "stream",
     "text": [
      "['Monday', 'Thrusday', 'Saturday', 'Tuesday']\n",
      "['Monday', 'Thrusday', 'Saturday', 'Tuesday', 'Friday', 'Sunday'] 139771755802048 <class 'list'> 6\n"
     ]
    }
   ],
   "source": [
    "list1 = ['Monday', 'Thrusday',\"Saturday\",\"Tuesday\"]\n",
    "print(list1)\n",
    "list2 = [\"Friday\" ,\"Sunday\"]\n",
    "list1 += list2\n",
    "print(list1 , id(list1) , type(list1) , len(list1))"
   ]
  },
  {
   "cell_type": "code",
   "execution_count": 62,
   "id": "19c33a13-9797-4b0c-9636-75734fce973b",
   "metadata": {},
   "outputs": [
    {
     "name": "stdout",
     "output_type": "stream",
     "text": [
      "['Monday', 'Thrusday', 'Saturday', 'Tuesday']\n",
      "[['Monday', 'Thrusday', 'Saturday', 'Tuesday'], ['Friday', 'Sunday']] 139771755754880 <class 'list'> 2\n"
     ]
    }
   ],
   "source": [
    "list1 = ['Monday', 'Thrusday',\"Saturday\",\"Tuesday\"]\n",
    "print(list1)\n",
    "list2 = [\"Friday\" ,\"Sunday\"]\n",
    "result = [list1 , list2]\n",
    "print(result , id(result) , type(result) , len(result))"
   ]
  }
 ],
 "metadata": {
  "kernelspec": {
   "display_name": "Python 3 (ipykernel)",
   "language": "python",
   "name": "python3"
  },
  "language_info": {
   "codemirror_mode": {
    "name": "ipython",
    "version": 3
   },
   "file_extension": ".py",
   "mimetype": "text/x-python",
   "name": "python",
   "nbconvert_exporter": "python",
   "pygments_lexer": "ipython3",
   "version": "3.13.1"
  }
 },
 "nbformat": 4,
 "nbformat_minor": 5
}
