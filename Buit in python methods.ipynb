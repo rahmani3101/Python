{
 "cells": [
  {
   "cell_type": "markdown",
   "id": "3a4af848-0db2-4601-a210-e5bd489e8569",
   "metadata": {},
   "source": [
    "## Built in Python method"
   ]
  },
  {
   "cell_type": "code",
   "execution_count": 20,
   "id": "57d31ace-57b6-4305-bb1a-9102864c441b",
   "metadata": {},
   "outputs": [
    {
     "name": "stdout",
     "output_type": "stream",
     "text": [
      "False True True\n",
      "True True\n",
      "100 111\n",
      "222 222\n",
      "222\n",
      "True\n",
      "False\n",
      "{'instVar1': 222}\n",
      "['__class__', '__delattr__', '__dict__', '__dir__', '__doc__', '__eq__', '__firstlineno__', '__format__', '__ge__', '__getattribute__', '__getstate__', '__gt__', '__hash__', '__init__', '__init_subclass__', '__le__', '__lt__', '__module__', '__ne__', '__new__', '__reduce__', '__reduce_ex__', '__repr__', '__setattr__', '__sizeof__', '__static_attributes__', '__str__', '__subclasshook__', '__weakref__', 'classVar1', 'function1', 'function2', 'instVar1']\n",
      " I am __str__() and is executing \n",
      " I am __str__() and is executing \n"
     ]
    }
   ],
   "source": [
    "class MyClass:\n",
    "    def __init__(self):\n",
    "        print(\"Hello\")\n",
    "\n",
    "class MyClass2:\n",
    "    classVar1 = 100\n",
    "    def __init__(self):\n",
    "        self.instVar1 = 111\n",
    "    def function1(self):\n",
    "        print(\"InstVar1 = \" , self.instVar1)\n",
    "\n",
    "class MyClass3(MyClass2):\n",
    "    \"\"\" This is a document string. doc string can be printed but comments cannot \"\"\" \n",
    "    def function2(self):\n",
    "        print(\" function2() is executing ........\")\n",
    "    def __str__(self):\n",
    "        return \" I am __str__() and is executing \"\n",
    "\n",
    "ob1 = MyClass3()\n",
    "print(isinstance(ob1 , MyClass), isinstance(ob1 ,MyClass2) , isinstance(ob1 , MyClass3))\n",
    "print(hasattr(ob1 , \"classVar1\"), hasattr(ob1 , \"instVar1\"))\n",
    "print(getattr(ob1 , \"classVar1\") , getattr(ob1 , \"instVar1\"))\n",
    "setattr(ob1 , \"instVar1\" ,222)# if it doesn't exist it will be created\n",
    "print(ob1.instVar1 , getattr(ob1,\"instVar1\"))\n",
    "print(getattr(ob1 , \"instVar1\"))  \n",
    "print(issubclass(MyClass3 , MyClass2))\n",
    "print(issubclass(MyClass3 , MyClass))\n",
    "print(vars(ob1)) # return a dictionary of attributes of the object\n",
    "print(dir(ob1))\n",
    "print(ob1)\n",
    "print(ob1.__str__())"
   ]
  },
  {
   "cell_type": "code",
   "execution_count": 21,
   "id": "884bd969-24db-4baa-9437-704d7cdffa73",
   "metadata": {},
   "outputs": [
    {
     "name": "stdout",
     "output_type": "stream",
     "text": [
      "This is a document string. doc string can be printed but comments cannot \n"
     ]
    }
   ],
   "source": [
    "print(ob1.__doc__)"
   ]
  },
  {
   "cell_type": "code",
   "execution_count": 23,
   "id": "abe38387-b784-44f3-9b52-102626c1814e",
   "metadata": {},
   "outputs": [
    {
     "name": "stdout",
     "output_type": "stream",
     "text": [
      "__main__\n",
      "{'instVar1': 222}\n"
     ]
    }
   ],
   "source": [
    "print(ob1.__module__)\n",
    "print(ob1.__dict__)"
   ]
  },
  {
   "cell_type": "markdown",
   "id": "6a512935-94b3-4bb3-80ef-8434e9dd7bae",
   "metadata": {},
   "source": [
    "## Access Modifier"
   ]
  },
  {
   "cell_type": "markdown",
   "id": "3ebea9e9-37c4-4992-a817-2c005db482a7",
   "metadata": {},
   "source": [
    "Dealing with private , public and protected member"
   ]
  },
  {
   "cell_type": "code",
   "execution_count": 26,
   "id": "ff43d522-7805-4011-a4e0-3b32e2abbcac",
   "metadata": {},
   "outputs": [
    {
     "name": "stdout",
     "output_type": "stream",
     "text": [
      "111\n",
      "222\n",
      "333\n"
     ]
    }
   ],
   "source": [
    "class MyClass:\n",
    "    def __init__(self):\n",
    "        self.publicVar = 111\n",
    "        self._protectedVar = 222\n",
    "        self.__privateVar = 333\n",
    "    def publicMethod(self):\n",
    "        return \"Public method is executing............\"\n",
    "    def _protectedMethod(self):\n",
    "        return \"Protected method is executing.....\"\n",
    "    def __privateMethod(self):\n",
    "        return \" Private method is executing........\"\n",
    "\n",
    "obj1 = MyClass()\n",
    "print(obj1.publicVar)\n",
    "print(obj1._protectedVar)\n",
    "print(obj1._MyClass__privateVar)"
   ]
  }
 ],
 "metadata": {
  "kernelspec": {
   "display_name": "Python 3 (ipykernel)",
   "language": "python",
   "name": "python3"
  },
  "language_info": {
   "codemirror_mode": {
    "name": "ipython",
    "version": 3
   },
   "file_extension": ".py",
   "mimetype": "text/x-python",
   "name": "python",
   "nbconvert_exporter": "python",
   "pygments_lexer": "ipython3",
   "version": "3.13.3"
  }
 },
 "nbformat": 4,
 "nbformat_minor": 5
}
