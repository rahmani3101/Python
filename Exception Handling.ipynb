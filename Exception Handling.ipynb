{
 "cells": [
  {
   "cell_type": "markdown",
   "id": "6c19f7ff-452c-41e9-9337-d6fe871e5c4d",
   "metadata": {},
   "source": [
    "## Python Exception Handling"
   ]
  },
  {
   "cell_type": "code",
   "execution_count": 1,
   "id": "c4f71dbd-cd09-4572-8987-ee14d8e7fb40",
   "metadata": {},
   "outputs": [
    {
     "name": "stdin",
     "output_type": "stream",
     "text": [
      "please enter first number :  26\n",
      "please enter second number :  13\n"
     ]
    },
    {
     "name": "stdout",
     "output_type": "stream",
     "text": [
      "So 26 / 13 = 2.0\n",
      "End..............\n"
     ]
    }
   ],
   "source": [
    "num1 = int(input(\"please enter first number : \"))\n",
    "num2 = int(input(\"please enter second number : \"))\n",
    "q = num1 / num2\n",
    "print(f\"So {num1} / {num2} = {q}\")\n",
    "print(\"End..............\")"
   ]
  },
  {
   "cell_type": "code",
   "execution_count": 2,
   "id": "f9d36627-b347-4e1c-8393-44fc714ecc63",
   "metadata": {},
   "outputs": [
    {
     "name": "stdin",
     "output_type": "stream",
     "text": [
      "please enter first number :  10\n",
      "please enter second number :  0\n"
     ]
    },
    {
     "ename": "ZeroDivisionError",
     "evalue": "division by zero",
     "output_type": "error",
     "traceback": [
      "\u001b[0;31m---------------------------------------------------------------------------\u001b[0m",
      "\u001b[0;31mZeroDivisionError\u001b[0m                         Traceback (most recent call last)",
      "Cell \u001b[0;32mIn[2], line 3\u001b[0m\n\u001b[1;32m      1\u001b[0m num1 \u001b[38;5;241m=\u001b[39m \u001b[38;5;28mint\u001b[39m(\u001b[38;5;28minput\u001b[39m(\u001b[38;5;124m\"\u001b[39m\u001b[38;5;124mplease enter first number : \u001b[39m\u001b[38;5;124m\"\u001b[39m))\n\u001b[1;32m      2\u001b[0m num2 \u001b[38;5;241m=\u001b[39m \u001b[38;5;28mint\u001b[39m(\u001b[38;5;28minput\u001b[39m(\u001b[38;5;124m\"\u001b[39m\u001b[38;5;124mplease enter second number : \u001b[39m\u001b[38;5;124m\"\u001b[39m))\n\u001b[0;32m----> 3\u001b[0m q \u001b[38;5;241m=\u001b[39m \u001b[43mnum1\u001b[49m\u001b[43m \u001b[49m\u001b[38;5;241;43m/\u001b[39;49m\u001b[43m \u001b[49m\u001b[43mnum2\u001b[49m\n\u001b[1;32m      4\u001b[0m \u001b[38;5;28mprint\u001b[39m(\u001b[38;5;124mf\u001b[39m\u001b[38;5;124m\"\u001b[39m\u001b[38;5;124mSo \u001b[39m\u001b[38;5;132;01m{\u001b[39;00mnum1\u001b[38;5;132;01m}\u001b[39;00m\u001b[38;5;124m / \u001b[39m\u001b[38;5;132;01m{\u001b[39;00mnum2\u001b[38;5;132;01m}\u001b[39;00m\u001b[38;5;124m = \u001b[39m\u001b[38;5;132;01m{\u001b[39;00mq\u001b[38;5;132;01m}\u001b[39;00m\u001b[38;5;124m\"\u001b[39m)\n\u001b[1;32m      5\u001b[0m \u001b[38;5;28mprint\u001b[39m(\u001b[38;5;124m\"\u001b[39m\u001b[38;5;124mEnd..............\u001b[39m\u001b[38;5;124m\"\u001b[39m)\n",
      "\u001b[0;31mZeroDivisionError\u001b[0m: division by zero"
     ]
    }
   ],
   "source": [
    "num1 = int(input(\"please enter first number : \"))\n",
    "num2 = int(input(\"please enter second number : \"))\n",
    "q = num1 / num2\n",
    "print(f\"So {num1} / {num2} = {q}\")\n",
    "print(\"End..............\")"
   ]
  },
  {
   "cell_type": "code",
   "execution_count": 3,
   "id": "69848519-10ea-47c6-81ad-93a9f0935e78",
   "metadata": {},
   "outputs": [
    {
     "name": "stdin",
     "output_type": "stream",
     "text": [
      "please enter first number :  5\n",
      "please enter second number :  0\n"
     ]
    },
    {
     "name": "stdout",
     "output_type": "stream",
     "text": [
      "ZeroDivisionError: division by zero\n",
      "ZeroDivisionError: error type is  <class 'ZeroDivisionError'>\n",
      "ZeroDivisionError: So the error message is  division by zero\n",
      "End...........\n"
     ]
    }
   ],
   "source": [
    "try :\n",
    "    num1 = int(input(\"Please enter first number : \"))\n",
    "    num2 = int(input(\"Please enter second number : \"))\n",
    "    q = num1 / num2\n",
    "    print(f\"So {num1} / {num2} = {q}\")\n",
    "\n",
    "except ZeroDivisionError as z:\n",
    "    print(\"ZeroDivisionError: division by zero\")\n",
    "    print(\"ZeroDivisionError: error type is \", type(z))\n",
    "    print(\"ZeroDivisionError: So the error message is \",z)\n",
    "\n",
    "except ValueError as ve:\n",
    "    print(\"ValueError : Invalid input has been provided......!!!\")\n",
    "    print(\"ValueError : So the error type is\",type(ve))\n",
    "    print(\"ValueError: So the error message  is \",ve)\n",
    "print(\"End...........\")        "
   ]
  },
  {
   "cell_type": "code",
   "execution_count": 4,
   "id": "2f3b86fe-2b99-4ffc-a2ce-d36d21ebfe04",
   "metadata": {},
   "outputs": [
    {
     "name": "stdin",
     "output_type": "stream",
     "text": [
      "Please enter first number :  2\n",
      "Please enter second number :  one\n"
     ]
    },
    {
     "name": "stdout",
     "output_type": "stream",
     "text": [
      "Exception: Some other exception has occurred.....!!!\n",
      "Exception :So error type is  <class 'ValueError'>\n",
      "Exception : So the error message is  invalid literal for int() with base 10: 'one'\n",
      "End of program\n"
     ]
    }
   ],
   "source": [
    "try:\n",
    "    num1 = int(input(\"Please enter first number : \"))\n",
    "    num2 = int(input(\"Please enter second number : \"))\n",
    "    q = num1 / num2\n",
    "    print(f\"So {num1} / {num2} = {q}\")\n",
    "\n",
    "except Exception as z:\n",
    "    print(\"Exception: Some other exception has occurred.....!!!\")\n",
    "    print(\"Exception :So error type is \", type(z))\n",
    "    print(\"Exception : So the error message is \",z)\n",
    "print(\"End of program\") "
   ]
  },
  {
   "cell_type": "code",
   "execution_count": 5,
   "id": "a2c075a4-ce00-424e-b36e-9887b215e032",
   "metadata": {},
   "outputs": [
    {
     "name": "stdin",
     "output_type": "stream",
     "text": [
      "Please enter first number :  5\n",
      "Please enter second number :  0\n"
     ]
    },
    {
     "name": "stdout",
     "output_type": "stream",
     "text": [
      "Exception: Some other exception has occurred.....!!!\n",
      "Exception :So error type is  <class 'ZeroDivisionError'>\n",
      "Exception : So the error message is  division by zero\n",
      "End...........\n"
     ]
    }
   ],
   "source": [
    "try :\n",
    "    num1 = int(input(\"Please enter first number : \"))\n",
    "    num2 = int(input(\"Please enter second number : \"))\n",
    "    q = num1 / num2\n",
    "    print(f\"So {num1} / {num2} = {q}\")\n",
    "    \n",
    "except ValueError as ve:\n",
    "    print(\"ValueError : Invalid input has been provided......!!!\")\n",
    "    print(\"ValueError : So the error type is\",type(ve))\n",
    "    print(\"ValueError: So the error message  is \",ve)\n",
    "\n",
    "\n",
    "except Exception as z:\n",
    "    print(\"Exception: Some other exception has occurred.....!!!\")\n",
    "    print(\"Exception :So error type is \", type(z))\n",
    "    print(\"Exception : So the error message is \",z)    \n",
    "print(\"End...........\")        "
   ]
  },
  {
   "cell_type": "code",
   "execution_count": 7,
   "id": "9d561946-9ef2-4833-a7c6-8b9564675be1",
   "metadata": {},
   "outputs": [
    {
     "name": "stdin",
     "output_type": "stream",
     "text": [
      "Please enter first number :  10\n",
      "Please enter second number :  0\n"
     ]
    },
    {
     "name": "stdout",
     "output_type": "stream",
     "text": [
      "ZeroDivisionError: division by zero is Illegal\n",
      "ZeroDivisionError: error type is  <class 'ZeroDivisionError'>\n",
      "ZeroDivisionError: So the error message is  division by zero\n",
      "End of program...\n"
     ]
    }
   ],
   "source": [
    "try :\n",
    "    num1 = int(input(\"Please enter first number : \"))\n",
    "    num2 = int(input(\"Please enter second number : \"))\n",
    "    q = num1 / num2\n",
    "    print(f\"So {num1} / {num2} = {q}\")\n",
    "\n",
    "except ZeroDivisionError as z:\n",
    "    print(\"ZeroDivisionError: division by zero is Illegal\")\n",
    "    print(\"ZeroDivisionError: error type is \", type(z))\n",
    "    print(\"ZeroDivisionError: So the error message is \",z)\n",
    "\n",
    "except ValueError as ve:\n",
    "    print(\"ValueError : Invalid input has been provided......!!!\")\n",
    "    print(\"ValueError : So the error type is\",type(ve))\n",
    "    print(\"ValueError: So the error message  is \",ve)\n",
    "\n",
    "except Exception as z:\n",
    "    print(\"Exception: Some other exception has occurred.....!!!\")\n",
    "    print(\"Exception :So error type is \", type(z))\n",
    "    print(\"Exception : So the error message is \",z)\n",
    "\n",
    "else:\n",
    "    print(\"Else : This is the \\\"ELSE \\\" block excuting....\")\n",
    "    print(\"Else : Had a smooth execution\")\n",
    "print(\"End of program...\")    "
   ]
  },
  {
   "cell_type": "code",
   "execution_count": 8,
   "id": "30d36919-9a2b-48e5-b895-b896312e9ea5",
   "metadata": {},
   "outputs": [
    {
     "name": "stdin",
     "output_type": "stream",
     "text": [
      "Please enter first number :  10\n",
      "Please enter second number :  5\n"
     ]
    },
    {
     "name": "stdout",
     "output_type": "stream",
     "text": [
      "So 10 / 5 = 2.0\n",
      "Else : This is the \"ELSE \" block excuting....\n",
      "Else : Had a smooth execution\n",
      "Finally : This is Finally block executing...\n",
      "Finally : This block executes always...\n",
      "End of program...\n"
     ]
    }
   ],
   "source": [
    "try :\n",
    "    num1 = int(input(\"Please enter first number : \"))\n",
    "    num2 = int(input(\"Please enter second number : \"))\n",
    "    q = num1 / num2\n",
    "    print(f\"So {num1} / {num2} = {q}\")\n",
    "\n",
    "except ZeroDivisionError as z:\n",
    "    print(\"ZeroDivisionError: division by zero is Illegal\")\n",
    "    print(\"ZeroDivisionError: error type is \", type(z))\n",
    "    print(\"ZeroDivisionError: So the error message is \",z)\n",
    "\n",
    "except ValueError as ve:\n",
    "    print(\"ValueError : Invalid input has been provided......!!!\")\n",
    "    print(\"ValueError : So the error type is\",type(ve))\n",
    "    print(\"ValueError: So the error message  is \",ve)\n",
    "\n",
    "except Exception as z:\n",
    "    print(\"Exception: Some other exception has occurred.....!!!\")\n",
    "    print(\"Exception :So error type is \", type(z))\n",
    "    print(\"Exception : So the error message is \",z)\n",
    "\n",
    "else:\n",
    "    print(\"Else : This is the \\\"ELSE \\\" block excuting....\")\n",
    "    print(\"Else : Had a smooth execution\")\n",
    "\n",
    "finally:\n",
    "    print(\"Finally : This is Finally block executing...\")\n",
    "    print(\"Finally : This block executes always...\")\n",
    "print(\"End of program...\")    "
   ]
  },
  {
   "cell_type": "code",
   "execution_count": 11,
   "id": "bfa117bb-d069-4c23-845e-01de5863fac5",
   "metadata": {},
   "outputs": [
    {
     "name": "stdin",
     "output_type": "stream",
     "text": [
      "Please enter first number within range (-100 to +100):  100\n",
      "Please enter second number within range (-100 to +100):  5\n"
     ]
    },
    {
     "name": "stdout",
     "output_type": "stream",
     "text": [
      "So 100 / 5 = 20.0\n",
      "Else : This is the \"ELSE \" block excuting....\n",
      "Else : Had a smooth execution\n",
      "Finally : This is Finally block executing...\n",
      "Finally : This block executes always...\n",
      "End of program...\n"
     ]
    }
   ],
   "source": [
    "try :\n",
    "    num1 = int(input(\"Please enter first number within range (-100 to +100): \"))\n",
    "    num2 = int(input(\"Please enter second number within range (-100 to +100): \"))\n",
    "    if(num1 < -100 or num2 < -100):\n",
    "        raise NameError(\"Below-100\")\n",
    "    if ( num1 > 100 or num2 > 100):\n",
    "        raise NameError(\"Above100\")\n",
    "    q = num1 / num2\n",
    "    print(f\"So {num1} / {num2} = {q}\")\n",
    "\n",
    "except ZeroDivisionError as z:\n",
    "    print(\"ZeroDivisionError: division by zero is Illegal\")\n",
    "    print(\"ZeroDivisionError: error type is \", type(z))\n",
    "    print(\"ZeroDivisionError: So the error message is \",z)\n",
    "\n",
    "except NameError as n:\n",
    "    print(\"NameError : Input value is out of range ....\")\n",
    "    if(str(n) == \"Below-100\"):\n",
    "        print(\"NameError : Input value is LESS than -100\")\n",
    "    elif(str(n) ==  \"Above100\"):\n",
    "        print(\"NameError : Input value is GREATER than 100\")\n",
    "        \n",
    "\n",
    "except ValueError as ve:\n",
    "    print(\"ValueError : Invalid input has been provided......!!!\")\n",
    "    print(\"ValueError : So the error type is\",type(ve))\n",
    "    print(\"ValueError: So the error message  is \",ve)\n",
    "\n",
    "except Exception as z:\n",
    "    print(\"Exception: Some other exception has occurred.....!!!\")\n",
    "    print(\"Exception :So error type is \", type(z))\n",
    "    print(\"Exception : So the error message is \",z)\n",
    "\n",
    "else:\n",
    "    print(\"Else : This is the \\\"ELSE \\\" block excuting....\")\n",
    "    print(\"Else : Had a smooth execution\")\n",
    "\n",
    "finally:\n",
    "    print(\"Finally : This is Finally block executing...\")\n",
    "    print(\"Finally : This block executes always...\")\n",
    "print(\"End of program...\")    \n"
   ]
  }
 ],
 "metadata": {
  "kernelspec": {
   "display_name": "Python 3 (ipykernel)",
   "language": "python",
   "name": "python3"
  },
  "language_info": {
   "codemirror_mode": {
    "name": "ipython",
    "version": 3
   },
   "file_extension": ".py",
   "mimetype": "text/x-python",
   "name": "python",
   "nbconvert_exporter": "python",
   "pygments_lexer": "ipython3",
   "version": "3.13.2"
  }
 },
 "nbformat": 4,
 "nbformat_minor": 5
}
