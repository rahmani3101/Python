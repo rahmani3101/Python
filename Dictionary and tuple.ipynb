{
 "cells": [
  {
   "cell_type": "markdown",
   "id": "1b433fd7-d884-40f4-b2e2-32065a8dbedf",
   "metadata": {},
   "source": [
    "Tuple"
   ]
  },
  {
   "cell_type": "code",
   "execution_count": 2,
   "id": "ccf5de78-26b6-447e-a0cf-58ef9d06c237",
   "metadata": {},
   "outputs": [
    {
     "name": "stdout",
     "output_type": "stream",
     "text": [
      "('Monday', 'Thrusday', 'Saturday', 'Tuesday') 4 139705167810048 <class 'tuple'>\n",
      "('Friday', 'Sunday') 2 139705086486720 <class 'tuple'>\n",
      "(('Monday', 'Thrusday', 'Saturday', 'Tuesday'), ('Friday', 'Sunday'))\n"
     ]
    }
   ],
   "source": [
    "tuple1 = ('Monday','Thrusday','Saturday','Tuesday')\n",
    "print(tuple1,len(tuple1),id(tuple1),type(tuple1))\n",
    "tuple2 = ('Friday','Sunday')\n",
    "print(tuple2,len(tuple2),id(tuple2),type(tuple2))\n",
    "\n",
    "result = (tuple1,tuple2)\n",
    "print(result)"
   ]
  },
  {
   "cell_type": "code",
   "execution_count": 3,
   "id": "36edb817-a004-40fc-a6e8-ccb8c2303d7c",
   "metadata": {},
   "outputs": [
    {
     "name": "stdout",
     "output_type": "stream",
     "text": [
      "('Monday', 'Thrusday', 'Saturday', 'Tuesday', 'Friday', 'Sunday')\n"
     ]
    }
   ],
   "source": [
    "result=tuple1+tuple2\n",
    "print(result)"
   ]
  },
  {
   "cell_type": "code",
   "execution_count": 5,
   "id": "83591451-b6d5-47e0-9459-e4b3356f2139",
   "metadata": {},
   "outputs": [
    {
     "name": "stdout",
     "output_type": "stream",
     "text": [
      "3\n",
      "2\n"
     ]
    }
   ],
   "source": [
    "tuple1 = ('Monday','Thrusday','Saturday','Tuesday','Saturday','Saturday')\n",
    "print(tuple1.count('Saturday'))\n",
    "print(tuple1.index('Saturday'))"
   ]
  },
  {
   "cell_type": "code",
   "execution_count": 7,
   "id": "fc1086e5-672e-4e87-acec-c3244cbebf89",
   "metadata": {},
   "outputs": [
    {
     "name": "stdout",
     "output_type": "stream",
     "text": [
      "('Monday', 'Thrusday', 'Saturday', 'Tuesday') 4 <class 'tuple'> 139704594413136\n",
      "['Monday', 'Thrusday', 'Saturday', 'Tuesday'] 4 <class 'list'> 139704594384448\n",
      "['Monday', 'Thrusday', 'Sunday', 'Tuesday'] 4 <class 'list'> 139704594384448\n",
      "('Monday', 'Thrusday', 'Sunday', 'Tuesday') 4 <class 'tuple'> 139705088349488\n"
     ]
    }
   ],
   "source": [
    "tuple1 = ('Monday','Thrusday','Saturday','Tuesday')\n",
    "print(tuple1,len(tuple1),type(tuple1),id(tuple1))\n",
    "# tuple[2]='Sunday' ..............will show error as it cannot be changed\n",
    "list1=list(tuple1)\n",
    "print(list1 , len(list1),type(list1),id(list1))\n",
    "list1[2]='Sunday'\n",
    "print(list1 , len(list1),type(list1),id(list1))\n",
    "tuple1=tuple(list1)\n",
    "print(tuple1,len(tuple1),type(tuple1),id(tuple1))"
   ]
  },
  {
   "cell_type": "markdown",
   "id": "5273392b-710b-48e0-ae44-2bbea5551556",
   "metadata": {},
   "source": [
    "## Dealing with Dictionary Processing\n",
    "\n",
    "Dicttionary is a collection of key-value pair where key should be always immutable type and value may be immutable or mutable types.Dictionary items are enclosed with in a second bracket(curly braces}.Dictionary items are mutable as INSERT , DELETE and UPDATE operations are carried out out on them"
   ]
  },
  {
   "cell_type": "code",
   "execution_count": 12,
   "id": "5df151d7-c6de-4d7d-ab98-32d268578fa7",
   "metadata": {},
   "outputs": [
    {
     "name": "stdout",
     "output_type": "stream",
     "text": [
      "{'mango': 'green', 'watermelon': 'pink', 'litchi': 'white', 'papaya': 'yellow'} 4 139704586953536 <class 'dict'>\n"
     ]
    }
   ],
   "source": [
    "dict1 = { \"mango\":\"green\",\n",
    "          \"watermelon\":\"pink\",\n",
    "          \"litchi\":\"white\",\n",
    "          \"papaya\":\"yellow\",\n",
    "        }\n",
    "\n",
    "print(dict1 , len(dict1),id(dict1),type(dict1))"
   ]
  },
  {
   "cell_type": "code",
   "execution_count": 13,
   "id": "cb15290a-f7db-4e96-bff2-7efdbcf6c126",
   "metadata": {},
   "outputs": [
    {
     "name": "stdout",
     "output_type": "stream",
     "text": [
      "dict_keys(['mango', 'watermelon', 'litchi', 'papaya'])\n"
     ]
    }
   ],
   "source": [
    "print(dict1.keys())"
   ]
  },
  {
   "cell_type": "code",
   "execution_count": 14,
   "id": "abdc5059-1f15-4add-8b6e-251356537ffa",
   "metadata": {},
   "outputs": [
    {
     "name": "stdout",
     "output_type": "stream",
     "text": [
      "dict_values(['green', 'pink', 'white', 'yellow'])\n"
     ]
    }
   ],
   "source": [
    "print(dict1.values())"
   ]
  },
  {
   "cell_type": "code",
   "execution_count": 15,
   "id": "e0d82f25-4589-483b-ad9f-dbcb2da61192",
   "metadata": {},
   "outputs": [
    {
     "name": "stdout",
     "output_type": "stream",
     "text": [
      "dict_items([('mango', 'green'), ('watermelon', 'pink'), ('litchi', 'white'), ('papaya', 'yellow')])\n"
     ]
    }
   ],
   "source": [
    "print(dict1.items())"
   ]
  },
  {
   "cell_type": "code",
   "execution_count": 19,
   "id": "e276ba82-1018-4b74-81ea-bb4813682119",
   "metadata": {},
   "outputs": [
    {
     "name": "stdout",
     "output_type": "stream",
     "text": [
      "120\n",
      "50\n",
      "100\n",
      "80\n",
      "None\n",
      "coconut not found\n"
     ]
    }
   ],
   "source": [
    "#accesing the value against the key\n",
    "dict1={\"mango\":120,\n",
    "       \"watermelon\":50,\n",
    "       \"litchi\":\"100\",\n",
    "       \"guava\":\"80\"\n",
    "      }\n",
    "\n",
    "print(dict1.get('mango'))\n",
    "print(dict1.get('watermelon'))\n",
    "print(dict1.get('litchi'))\n",
    "print(dict1.get('guava'))  \n",
    "print(dict1.get('coconut'))\n",
    "print(dict1.get('coconut','coconut not found'))"
   ]
  },
  {
   "cell_type": "code",
   "execution_count": 22,
   "id": "5956a828-3682-41aa-8b95-0eb6b68c8119",
   "metadata": {},
   "outputs": [
    {
     "name": "stdout",
     "output_type": "stream",
     "text": [
      "{'mango': 'green', 'watermelon': 'pink', 'litchi': 'white', 'papaya': 'yellow'} 4 139704590593856 <class 'dict'>\n",
      "yellow\n",
      "green\n"
     ]
    }
   ],
   "source": [
    "dict1 = { \"mango\":\"green\",\n",
    "          \"watermelon\":\"pink\",\n",
    "          \"litchi\":\"white\",\n",
    "          \"papaya\":\"yellow\",\n",
    "        }\n",
    "\n",
    "print(dict1 , len(dict1),id(dict1),type(dict1))\n",
    "\n",
    "print(dict1[\"papaya\"])\n",
    "print(dict1['mango'])"
   ]
  },
  {
   "cell_type": "code",
   "execution_count": 25,
   "id": "6fecf460-ce2b-4312-a5a2-7dff73ff0c3b",
   "metadata": {},
   "outputs": [
    {
     "name": "stdout",
     "output_type": "stream",
     "text": [
      "{'mango': 120, 'watermelon': 50, 'litchi': '100', 'guava': '80'} 4 139704580368064 <class 'dict'>\n",
      "{'mango': 120, 'watermelon': 50, 'litchi': 60, 'guava': '80'} 4 139704580368064 <class 'dict'>\n",
      "{'mango': 120, 'watermelon': 50, 'litchi': 60, 'guava': '80', 'apple': 90} 5 139704580368064 <class 'dict'>\n"
     ]
    }
   ],
   "source": [
    "#insert and delete operation on dict\n",
    "\n",
    "dict1={\"mango\":120,\n",
    "       \"watermelon\":50,\n",
    "       \"litchi\":\"100\",\n",
    "       \"guava\":\"80\"\n",
    "      }\n",
    "print(dict1 , len(dict1),id(dict1),type(dict1))\n",
    "dict1[\"litchi\"]=60\n",
    "print(dict1 , len(dict1),id(dict1),type(dict1))\n",
    "dict1[\"apple\"]=90\n",
    "print(dict1 , len(dict1),id(dict1),type(dict1))"
   ]
  },
  {
   "cell_type": "code",
   "execution_count": 26,
   "id": "0cfadd77-3b4e-4dc7-84fa-2c4e57e1cf4e",
   "metadata": {},
   "outputs": [
    {
     "name": "stdout",
     "output_type": "stream",
     "text": [
      "{'mango': 130, 'watermelon': 50, 'litchi': 60, 'guava': '80', 'apple': 90} 5 139704580368064 <class 'dict'>\n"
     ]
    }
   ],
   "source": [
    "dict1['mango']= 130 # update\n",
    "print(dict1 , len(dict1),id(dict1),type(dict1))"
   ]
  },
  {
   "cell_type": "code",
   "execution_count": 27,
   "id": "a3ede6d8-4b2b-4a06-85ad-8cc3e48f01b5",
   "metadata": {},
   "outputs": [
    {
     "name": "stdout",
     "output_type": "stream",
     "text": [
      "{'mango': 120, 'watermelon': 50, 'litchi': '100', 'guava': '80'} 4 139704580360960 <class 'dict'>\n",
      "{} 0 139704580360960 <class 'dict'>\n"
     ]
    }
   ],
   "source": [
    "#delete operation\n",
    "dict1={\"mango\":120,\n",
    "       \"watermelon\":50,\n",
    "       \"litchi\":\"100\",\n",
    "       \"guava\":\"80\"\n",
    "      }\n",
    "print(dict1 , len(dict1),id(dict1),type(dict1))\n",
    "dict1.clear()\n",
    "print(dict1 , len(dict1),id(dict1),type(dict1))"
   ]
  },
  {
   "cell_type": "code",
   "execution_count": 29,
   "id": "87b540b6-8659-4765-bf20-589d989768e5",
   "metadata": {},
   "outputs": [
    {
     "name": "stdout",
     "output_type": "stream",
     "text": [
      "{'mango': 120, 'watermelon': 50, 'litchi': '100', 'guava': '80'} 4 139704586781888 <class 'dict'>\n"
     ]
    }
   ],
   "source": [
    "#delete operation\n",
    "dict1={\"mango\":120,\n",
    "       \"watermelon\":50,\n",
    "       \"litchi\":\"100\",\n",
    "       \"guava\":\"80\"\n",
    "      }\n",
    "print(dict1 , len(dict1),id(dict1),type(dict1))\n",
    "del dict1\n",
    "# print(dict1 , len(dict1),id(dict1),type(dict1)) error as dict1 is deleted"
   ]
  },
  {
   "cell_type": "code",
   "execution_count": 36,
   "id": "7e93bfb7-ffba-48c2-a0c4-17e26bb4777b",
   "metadata": {},
   "outputs": [
    {
     "name": "stdout",
     "output_type": "stream",
     "text": [
      "{'mango': 120, 'watermelon': 50, 'litchi': '100', 'guava': '80'} 4 139704580793920 <class 'dict'>\n",
      "120\n",
      "{'watermelon': 50, 'litchi': '100', 'guava': '80'} 3 139704580793920 <class 'dict'>\n",
      "80\n",
      "{'watermelon': 50, 'litchi': '100'} 2 139704580793920 <class 'dict'>\n",
      "100\n",
      "{'watermelon': 50} 1 139704580793920 <class 'dict'>\n"
     ]
    }
   ],
   "source": [
    "dict1={\"mango\":120,\n",
    "       \"watermelon\":50,\n",
    "       \"litchi\":\"100\",\n",
    "       \"guava\":\"80\"\n",
    "      }\n",
    "print(dict1 , len(dict1),id(dict1),type(dict1))\n",
    "print(dict1.pop(\"mango\"))\n",
    "print(dict1 , len(dict1),id(dict1),type(dict1))\n",
    "\n",
    "print(dict1.pop(\"guava\"))\n",
    "print(dict1 , len(dict1),id(dict1),type(dict1))\n",
    "\n",
    "print(dict1.pop(\"litchi\"))\n",
    "print(dict1 , len(dict1),id(dict1),type(dict1))\n",
    "\n",
    "# print(dict1.pop(\"coconut\")) key error aaega"
   ]
  },
  {
   "cell_type": "code",
   "execution_count": 38,
   "id": "526e08ee-6f48-4d79-b672-6bd45f8e0a40",
   "metadata": {},
   "outputs": [
    {
     "name": "stdout",
     "output_type": "stream",
     "text": [
      "{'mango': 120, 'watermelon': 50, 'litchi': '100', 'guava': '80'} 4 139704580792704 <class 'dict'>\n",
      "{'pineapple': 'yellow', 'apple': 'red', 'mango': 'green'} 3 139704580793920 <class 'dict'>\n",
      "{'mango': 'green', 'watermelon': 50, 'litchi': '100', 'guava': '80', 'pineapple': 'yellow', 'apple': 'red'} 6 139704580792704 <class 'dict'>\n",
      "{'pineapple': 'yellow', 'apple': 'red', 'mango': 'green'} 3 139704580793920 <class 'dict'>\n"
     ]
    }
   ],
   "source": [
    "dict1={\"mango\":120,\n",
    "       \"watermelon\":50,\n",
    "       \"litchi\":\"100\",\n",
    "       \"guava\":\"80\"\n",
    "      }\n",
    "\n",
    "print(dict1 , len(dict1),id(dict1),type(dict1))\n",
    "\n",
    "dict2 = {\"pineapple\":\"yellow\",\n",
    "         \"apple\":\"red\",\n",
    "         \"mango\":\"green\"\n",
    "        }\n",
    "print(dict2 , len(dict2),id(dict2),type(dict2))\n",
    "dict1.update(dict2)\n",
    "print(dict1 , len(dict1),id(dict1),type(dict1))\n",
    "print(dict2 , len(dict2),id(dict2),type(dict2))"
   ]
  },
  {
   "cell_type": "code",
   "execution_count": 40,
   "id": "d4d49151-8d49-4823-aa32-4a2dc50ec7e9",
   "metadata": {},
   "outputs": [
    {
     "name": "stdout",
     "output_type": "stream",
     "text": [
      "('pineapple', 'yellow')\n",
      "{'mango': 'green', 'watermelon': 50, 'litchi': '100', 'guava': '80'} 4 139704580792704 <class 'dict'>\n",
      "('guava', '80')\n",
      "{'mango': 'green', 'watermelon': 50, 'litchi': '100'} 3 139704580792704 <class 'dict'>\n",
      "('litchi', '100')\n",
      "{'mango': 'green', 'watermelon': 50} 2 139704580792704 <class 'dict'>\n"
     ]
    }
   ],
   "source": [
    "print(dict1.popitem())\n",
    "print(dict1 , len(dict1),id(dict1),type(dict1))\n",
    "print(dict1.popitem())\n",
    "print(dict1 , len(dict1),id(dict1),type(dict1))\n",
    "print(dict1.popitem())\n",
    "print(dict1 , len(dict1),id(dict1),type(dict1))"
   ]
  },
  {
   "cell_type": "code",
   "execution_count": 3,
   "id": "3d1db0e5-be76-448e-912e-d116c85b9b89",
   "metadata": {},
   "outputs": [
    {
     "name": "stdout",
     "output_type": "stream",
     "text": [
      "['mango', 'orange', 'guava', 'pineapple', 'apple', 'banana'] 6\n",
      "['green', 'orange', 'green', 'yellow', 'red', 'mustard'] 6\n",
      "<zip object at 0x7fe11e628a40> <class 'zip'>\n",
      "\n",
      "[('mango', 'green'), ('orange', 'orange'), ('guava', 'green'), ('pineapple', 'yellow'), ('apple', 'red'), ('banana', 'mustard')] <class 'list'>\n",
      "\n",
      "{'mango': 'green', 'orange': 'orange', 'guava': 'green', 'pineapple': 'yellow', 'apple': 'red', 'banana': 'mustard'} <class 'dict'>\n",
      "(('mango', 'green'), ('orange', 'orange'), ('guava', 'green'), ('pineapple', 'yellow'), ('apple', 'red'), ('banana', 'mustard')) <class 'tuple'>\n"
     ]
    }
   ],
   "source": [
    "fruits = ['mango','orange','guava','pineapple','apple','banana']\n",
    "colors = ['green','orange','green','yellow','red','mustard']\n",
    "\n",
    "print(fruits , len(fruits))\n",
    "print(colors , len(colors))\n",
    "\n",
    "result = zip(fruits,colors)\n",
    "print(result,type(result))\n",
    "print()\n",
    "\n",
    "result = list(zip(fruits , colors))\n",
    "print(result,type(result))\n",
    "print()\n",
    "\n",
    "result=dict(zip(fruits, colors))\n",
    "print(result,type(result))\n",
    "\n",
    "result=tuple(zip(fruits, colors))\n",
    "print(result,type(result))"
   ]
  }
 ],
 "metadata": {
  "kernelspec": {
   "display_name": "Python 3 (ipykernel)",
   "language": "python",
   "name": "python3"
  },
  "language_info": {
   "codemirror_mode": {
    "name": "ipython",
    "version": 3
   },
   "file_extension": ".py",
   "mimetype": "text/x-python",
   "name": "python",
   "nbconvert_exporter": "python",
   "pygments_lexer": "ipython3",
   "version": "3.13.2"
  }
 },
 "nbformat": 4,
 "nbformat_minor": 5
}
